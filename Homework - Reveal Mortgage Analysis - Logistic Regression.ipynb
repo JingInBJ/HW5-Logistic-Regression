{
 "cells": [
  {
   "cell_type": "markdown",
   "metadata": {},
   "source": [
    "# Lending disparities using Logistic Regression\n",
    "\n",
    "**The story:** https://www.revealnews.org/article/for-people-of-color-banks-are-shutting-the-door-to-homeownership/\n",
    "\n",
    "**Author:** Aaron Glantz and Emmanuel Martinez\n",
    "\n",
    "**Topics:** Logistic regression, odds ratios\n",
    "\n",
    "**Datasets**\n",
    "\n",
    "* **philadelphia-mortgages.csv:** Philadelphia mortgage data for 2015\n",
    "    - A subset of HMDA LAR data from [FFEIC](https://www.ffiec.gov/hmda/hmdaproducts.htm)\n",
    "    - Codebook is `2015HMDACodeSheet.pdf`\n",
    "    - A [guide to HMDA reporting](https://www.ffiec.gov/hmda/guide.htm)\n",
    "    - I've massaged it slightly to make processing a bit easier\n",
    "* **nhgis0006_ds233_20175_2017_tract.csv:**\n",
    "    - Table B03002: Hispanic or Latino Origin by Race\n",
    "    - 2013-2017 American Community Survey data US Census Bureau, from [NHGIS](https://data2.nhgis.org/main)\n",
    "    - Codebook is `nhgis0006_ds233_20175_2017_tract_codebook.txt`\n",
    "* **lending_disparities_whitepaper_180214.pdf:** the whitepaper outlining Reveal's methodology\n",
    "\n",
    "## What's the goal?\n",
    "\n",
    "Do banks provide mortgages at disparate rates between white applicants and people of color? We're going to look at the following variables to find out:\n",
    "\n",
    "* Race/Ethnicity\n",
    "    - Native American\n",
    "    - Asian\n",
    "    - Black\n",
    "    - Native Hawaiian\n",
    "    - Hispanic/Latino\n",
    "    - Race and ethnicity were not reported\n",
    "* Sex\n",
    "* Whether there was a co-applicant\n",
    "* Applicant’s annual income (includes co-applicant income)\n",
    "* Loan amount\n",
    "* Ratio between the loan amount and the applicant’s income\n",
    "* Ratio between the median income of the census tract and the median income of the metro area\n",
    "* Racial and ethnic breakdown by percentage for each census tract\n",
    "* Regulating agency of the lending institution"
   ]
  },
  {
   "cell_type": "markdown",
   "metadata": {},
   "source": [
    "# Setup\n",
    "\n",
    "Import pandas as usual, but also import numpy. We'll need it for logarithms and exponents.\n",
    "\n",
    "Some of our datasets have a lot of columns, so you'll also want to use `pd.set_option` to display up to 100 columns or so."
   ]
  },
  {
   "cell_type": "code",
   "execution_count": 1,
   "metadata": {},
   "outputs": [],
   "source": [
    "import numpy as np\n",
    "import pandas as pd\n",
    "\n",
    "from sklearn import metrics\n",
    "from sklearn.linear_model.logistic import LogisticRegression\n",
    "from sklearn.metrics import confusion_matrix\n",
    "\n",
    "import seaborn as sns\n",
    "from matplotlib import pyplot as plt\n",
    "from matplotlib import style"
   ]
  },
  {
   "cell_type": "code",
   "execution_count": 2,
   "metadata": {},
   "outputs": [],
   "source": [
    "pd.set_option(\"display.max_columns\", 100)"
   ]
  },
  {
   "cell_type": "code",
   "execution_count": 3,
   "metadata": {},
   "outputs": [
    {
     "data": {
      "text/html": [
       "<div>\n",
       "<style scoped>\n",
       "    .dataframe tbody tr th:only-of-type {\n",
       "        vertical-align: middle;\n",
       "    }\n",
       "\n",
       "    .dataframe tbody tr th {\n",
       "        vertical-align: top;\n",
       "    }\n",
       "\n",
       "    .dataframe thead th {\n",
       "        text-align: right;\n",
       "    }\n",
       "</style>\n",
       "<table border=\"1\" class=\"dataframe\">\n",
       "  <thead>\n",
       "    <tr style=\"text-align: right;\">\n",
       "      <th></th>\n",
       "      <th>census_tract</th>\n",
       "      <th>county_code</th>\n",
       "      <th>state_code</th>\n",
       "      <th>applicant_sex</th>\n",
       "      <th>income</th>\n",
       "      <th>loan_amount</th>\n",
       "      <th>loan_type</th>\n",
       "      <th>property_type</th>\n",
       "      <th>occupancy</th>\n",
       "      <th>action_type</th>\n",
       "      <th>loan_purpose</th>\n",
       "      <th>agency_code</th>\n",
       "      <th>tract_to_msa_income_percent</th>\n",
       "      <th>applicant_race</th>\n",
       "      <th>co_applicant_sex</th>\n",
       "    </tr>\n",
       "  </thead>\n",
       "  <tbody>\n",
       "    <tr>\n",
       "      <th>0</th>\n",
       "      <td>101.0</td>\n",
       "      <td>101</td>\n",
       "      <td>42</td>\n",
       "      <td>3</td>\n",
       "      <td>26</td>\n",
       "      <td>5</td>\n",
       "      <td>1</td>\n",
       "      <td>1</td>\n",
       "      <td>1</td>\n",
       "      <td>4</td>\n",
       "      <td>2</td>\n",
       "      <td>5</td>\n",
       "      <td>97.09</td>\n",
       "      <td>6</td>\n",
       "      <td>5</td>\n",
       "    </tr>\n",
       "    <tr>\n",
       "      <th>1</th>\n",
       "      <td>264.0</td>\n",
       "      <td>101</td>\n",
       "      <td>42</td>\n",
       "      <td>2</td>\n",
       "      <td>26</td>\n",
       "      <td>40</td>\n",
       "      <td>1</td>\n",
       "      <td>1</td>\n",
       "      <td>1</td>\n",
       "      <td>4</td>\n",
       "      <td>2</td>\n",
       "      <td>5</td>\n",
       "      <td>98.27</td>\n",
       "      <td>3</td>\n",
       "      <td>5</td>\n",
       "    </tr>\n",
       "    <tr>\n",
       "      <th>2</th>\n",
       "      <td>281.0</td>\n",
       "      <td>101</td>\n",
       "      <td>42</td>\n",
       "      <td>2</td>\n",
       "      <td>22</td>\n",
       "      <td>20</td>\n",
       "      <td>1</td>\n",
       "      <td>1</td>\n",
       "      <td>1</td>\n",
       "      <td>5</td>\n",
       "      <td>2</td>\n",
       "      <td>5</td>\n",
       "      <td>72.28</td>\n",
       "      <td>6</td>\n",
       "      <td>5</td>\n",
       "    </tr>\n",
       "    <tr>\n",
       "      <th>3</th>\n",
       "      <td>158.0</td>\n",
       "      <td>101</td>\n",
       "      <td>42</td>\n",
       "      <td>2</td>\n",
       "      <td>57</td>\n",
       "      <td>36</td>\n",
       "      <td>1</td>\n",
       "      <td>1</td>\n",
       "      <td>1</td>\n",
       "      <td>5</td>\n",
       "      <td>3</td>\n",
       "      <td>5</td>\n",
       "      <td>105.87</td>\n",
       "      <td>6</td>\n",
       "      <td>5</td>\n",
       "    </tr>\n",
       "    <tr>\n",
       "      <th>4</th>\n",
       "      <td>358.0</td>\n",
       "      <td>101</td>\n",
       "      <td>42</td>\n",
       "      <td>1</td>\n",
       "      <td>80</td>\n",
       "      <td>34</td>\n",
       "      <td>1</td>\n",
       "      <td>1</td>\n",
       "      <td>1</td>\n",
       "      <td>1</td>\n",
       "      <td>3</td>\n",
       "      <td>5</td>\n",
       "      <td>139.62</td>\n",
       "      <td>5</td>\n",
       "      <td>2</td>\n",
       "    </tr>\n",
       "  </tbody>\n",
       "</table>\n",
       "</div>"
      ],
      "text/plain": [
       "   census_tract  county_code  state_code  applicant_sex  income  loan_amount  \\\n",
       "0         101.0          101          42              3      26            5   \n",
       "1         264.0          101          42              2      26           40   \n",
       "2         281.0          101          42              2      22           20   \n",
       "3         158.0          101          42              2      57           36   \n",
       "4         358.0          101          42              1      80           34   \n",
       "\n",
       "   loan_type  property_type  occupancy  action_type  loan_purpose  \\\n",
       "0          1              1          1            4             2   \n",
       "1          1              1          1            4             2   \n",
       "2          1              1          1            5             2   \n",
       "3          1              1          1            5             3   \n",
       "4          1              1          1            1             3   \n",
       "\n",
       "   agency_code  tract_to_msa_income_percent  applicant_race  co_applicant_sex  \n",
       "0            5                        97.09               6                 5  \n",
       "1            5                        98.27               3                 5  \n",
       "2            5                        72.28               6                 5  \n",
       "3            5                       105.87               6                 5  \n",
       "4            5                       139.62               5                 2  "
      ]
     },
     "execution_count": 3,
     "metadata": {},
     "output_type": "execute_result"
    }
   ],
   "source": [
    "df1 = pd.read_csv('philadelphia-mortgages.csv')\n",
    "df1.head()"
   ]
  },
  {
   "cell_type": "code",
   "execution_count": 4,
   "metadata": {},
   "outputs": [],
   "source": [
    "#df2 = pd.read_csv('nhgis0007_ds215_20155_2015_tract.csv')"
   ]
  },
  {
   "cell_type": "markdown",
   "metadata": {},
   "source": [
    "# What is each row of our data?\n",
    "\n",
    "If you aren't sure, you might need to look at either the whitepaper or the codebook. You'll need to look at them both eventually, so might as well get started now."
   ]
  },
  {
   "cell_type": "code",
   "execution_count": null,
   "metadata": {},
   "outputs": [],
   "source": []
  },
  {
   "cell_type": "markdown",
   "metadata": {},
   "source": [
    "# Read in your data\n",
    "\n",
    "Read in our Philadelphia mortgage data and take a peek at the first few rows.\n",
    "\n",
    "* **Tip:** As always, census tract columns like to cause problems if they're read in as numbers. Make sure pandas reads it in as a string."
   ]
  },
  {
   "cell_type": "code",
   "execution_count": 5,
   "metadata": {},
   "outputs": [
    {
     "name": "stdout",
     "output_type": "stream",
     "text": [
      "<class 'pandas.core.frame.DataFrame'>\n",
      "RangeIndex: 60705 entries, 0 to 60704\n",
      "Data columns (total 15 columns):\n",
      "census_tract                   60705 non-null float64\n",
      "county_code                    60705 non-null int64\n",
      "state_code                     60705 non-null int64\n",
      "applicant_sex                  60705 non-null int64\n",
      "income                         60705 non-null int64\n",
      "loan_amount                    60705 non-null int64\n",
      "loan_type                      60705 non-null int64\n",
      "property_type                  60705 non-null int64\n",
      "occupancy                      60705 non-null int64\n",
      "action_type                    60705 non-null int64\n",
      "loan_purpose                   60705 non-null int64\n",
      "agency_code                    60705 non-null int64\n",
      "tract_to_msa_income_percent    60705 non-null float64\n",
      "applicant_race                 60705 non-null int64\n",
      "co_applicant_sex               60705 non-null int64\n",
      "dtypes: float64(2), int64(13)\n",
      "memory usage: 6.9 MB\n"
     ]
    }
   ],
   "source": [
    "df1.info()"
   ]
  },
  {
   "cell_type": "code",
   "execution_count": 6,
   "metadata": {},
   "outputs": [],
   "source": [
    "df1['census_tract'] = df1.census_tract.astype(str)"
   ]
  },
  {
   "cell_type": "markdown",
   "metadata": {},
   "source": [
    "### Check your column types\n",
    "\n",
    "I mentioned it above, but make sure `census_tract` is an object (a string) or merging isn't going to be any fun later on."
   ]
  },
  {
   "cell_type": "code",
   "execution_count": 7,
   "metadata": {},
   "outputs": [
    {
     "name": "stdout",
     "output_type": "stream",
     "text": [
      "<class 'pandas.core.frame.DataFrame'>\n",
      "RangeIndex: 60705 entries, 0 to 60704\n",
      "Data columns (total 15 columns):\n",
      "census_tract                   60705 non-null object\n",
      "county_code                    60705 non-null int64\n",
      "state_code                     60705 non-null int64\n",
      "applicant_sex                  60705 non-null int64\n",
      "income                         60705 non-null int64\n",
      "loan_amount                    60705 non-null int64\n",
      "loan_type                      60705 non-null int64\n",
      "property_type                  60705 non-null int64\n",
      "occupancy                      60705 non-null int64\n",
      "action_type                    60705 non-null int64\n",
      "loan_purpose                   60705 non-null int64\n",
      "agency_code                    60705 non-null int64\n",
      "tract_to_msa_income_percent    60705 non-null float64\n",
      "applicant_race                 60705 non-null int64\n",
      "co_applicant_sex               60705 non-null int64\n",
      "dtypes: float64(1), int64(13), object(1)\n",
      "memory usage: 6.9+ MB\n"
     ]
    }
   ],
   "source": [
    "df1.info()"
   ]
  },
  {
   "cell_type": "markdown",
   "metadata": {},
   "source": [
    "# Engineering and cleaning up features\n",
    "\n",
    "## Income-related columns\n",
    "\n",
    "> When we plotted the number of applicants, how much money they made and the size of the loan, we found that it skewed to the left, meaning the majority of applicants were clustered on the lower end of the income and loan amount scales. This was especially true for applicants of color. **We took the logarithm transformation of income and loan amount to normalize the distribution of those variables and limit the effect of extreme outliers.**\n",
    "\n",
    "A few of the columns you'll need to calculate yourselves. **Calculate these values and assign them to three new columns.**\n",
    "\n",
    "* Applicant’s adjusted annual income (includes co-applicant income)\n",
    "* Adjusted loan amount\n",
    "* Ratio between the loan amount and the applicant’s income\n",
    "\n",
    "Instead of using the raw income and loan amount, you'll want the log of both income and loan amount. Call these new columns `log_income` and `log_loan_amount`. The third column will be `loan_income_ratio`.\n",
    "\n",
    "* **Tip:** `np.log` gives you the logarithm"
   ]
  },
  {
   "cell_type": "code",
   "execution_count": 8,
   "metadata": {},
   "outputs": [],
   "source": [
    "#logarithm是对数，那和adjusted annul income有什么关系?\n",
    "df1['log_income']= np.log(df1['income'])\n",
    "df1['log_loan_amount']=np.log(df1['loan_amount'])\n",
    "df1['loan_income_ratio']=np.log(df1['loan_amount']/df1['income']*100)"
   ]
  },
  {
   "cell_type": "code",
   "execution_count": 9,
   "metadata": {},
   "outputs": [
    {
     "data": {
      "text/html": [
       "<div>\n",
       "<style scoped>\n",
       "    .dataframe tbody tr th:only-of-type {\n",
       "        vertical-align: middle;\n",
       "    }\n",
       "\n",
       "    .dataframe tbody tr th {\n",
       "        vertical-align: top;\n",
       "    }\n",
       "\n",
       "    .dataframe thead th {\n",
       "        text-align: right;\n",
       "    }\n",
       "</style>\n",
       "<table border=\"1\" class=\"dataframe\">\n",
       "  <thead>\n",
       "    <tr style=\"text-align: right;\">\n",
       "      <th></th>\n",
       "      <th>census_tract</th>\n",
       "      <th>county_code</th>\n",
       "      <th>state_code</th>\n",
       "      <th>applicant_sex</th>\n",
       "      <th>income</th>\n",
       "      <th>loan_amount</th>\n",
       "      <th>loan_type</th>\n",
       "      <th>property_type</th>\n",
       "      <th>occupancy</th>\n",
       "      <th>action_type</th>\n",
       "      <th>loan_purpose</th>\n",
       "      <th>agency_code</th>\n",
       "      <th>tract_to_msa_income_percent</th>\n",
       "      <th>applicant_race</th>\n",
       "      <th>co_applicant_sex</th>\n",
       "      <th>log_income</th>\n",
       "      <th>log_loan_amount</th>\n",
       "      <th>loan_income_ratio</th>\n",
       "    </tr>\n",
       "  </thead>\n",
       "  <tbody>\n",
       "    <tr>\n",
       "      <th>0</th>\n",
       "      <td>101.0</td>\n",
       "      <td>101</td>\n",
       "      <td>42</td>\n",
       "      <td>3</td>\n",
       "      <td>26</td>\n",
       "      <td>5</td>\n",
       "      <td>1</td>\n",
       "      <td>1</td>\n",
       "      <td>1</td>\n",
       "      <td>4</td>\n",
       "      <td>2</td>\n",
       "      <td>5</td>\n",
       "      <td>97.09</td>\n",
       "      <td>6</td>\n",
       "      <td>5</td>\n",
       "      <td>3.258097</td>\n",
       "      <td>1.609438</td>\n",
       "      <td>2.956512</td>\n",
       "    </tr>\n",
       "    <tr>\n",
       "      <th>1</th>\n",
       "      <td>264.0</td>\n",
       "      <td>101</td>\n",
       "      <td>42</td>\n",
       "      <td>2</td>\n",
       "      <td>26</td>\n",
       "      <td>40</td>\n",
       "      <td>1</td>\n",
       "      <td>1</td>\n",
       "      <td>1</td>\n",
       "      <td>4</td>\n",
       "      <td>2</td>\n",
       "      <td>5</td>\n",
       "      <td>98.27</td>\n",
       "      <td>3</td>\n",
       "      <td>5</td>\n",
       "      <td>3.258097</td>\n",
       "      <td>3.688879</td>\n",
       "      <td>5.035953</td>\n",
       "    </tr>\n",
       "    <tr>\n",
       "      <th>2</th>\n",
       "      <td>281.0</td>\n",
       "      <td>101</td>\n",
       "      <td>42</td>\n",
       "      <td>2</td>\n",
       "      <td>22</td>\n",
       "      <td>20</td>\n",
       "      <td>1</td>\n",
       "      <td>1</td>\n",
       "      <td>1</td>\n",
       "      <td>5</td>\n",
       "      <td>2</td>\n",
       "      <td>5</td>\n",
       "      <td>72.28</td>\n",
       "      <td>6</td>\n",
       "      <td>5</td>\n",
       "      <td>3.091042</td>\n",
       "      <td>2.995732</td>\n",
       "      <td>4.509860</td>\n",
       "    </tr>\n",
       "    <tr>\n",
       "      <th>3</th>\n",
       "      <td>158.0</td>\n",
       "      <td>101</td>\n",
       "      <td>42</td>\n",
       "      <td>2</td>\n",
       "      <td>57</td>\n",
       "      <td>36</td>\n",
       "      <td>1</td>\n",
       "      <td>1</td>\n",
       "      <td>1</td>\n",
       "      <td>5</td>\n",
       "      <td>3</td>\n",
       "      <td>5</td>\n",
       "      <td>105.87</td>\n",
       "      <td>6</td>\n",
       "      <td>5</td>\n",
       "      <td>4.043051</td>\n",
       "      <td>3.583519</td>\n",
       "      <td>4.145638</td>\n",
       "    </tr>\n",
       "    <tr>\n",
       "      <th>4</th>\n",
       "      <td>358.0</td>\n",
       "      <td>101</td>\n",
       "      <td>42</td>\n",
       "      <td>1</td>\n",
       "      <td>80</td>\n",
       "      <td>34</td>\n",
       "      <td>1</td>\n",
       "      <td>1</td>\n",
       "      <td>1</td>\n",
       "      <td>1</td>\n",
       "      <td>3</td>\n",
       "      <td>5</td>\n",
       "      <td>139.62</td>\n",
       "      <td>5</td>\n",
       "      <td>2</td>\n",
       "      <td>4.382027</td>\n",
       "      <td>3.526361</td>\n",
       "      <td>3.749504</td>\n",
       "    </tr>\n",
       "  </tbody>\n",
       "</table>\n",
       "</div>"
      ],
      "text/plain": [
       "  census_tract  county_code  state_code  applicant_sex  income  loan_amount  \\\n",
       "0        101.0          101          42              3      26            5   \n",
       "1        264.0          101          42              2      26           40   \n",
       "2        281.0          101          42              2      22           20   \n",
       "3        158.0          101          42              2      57           36   \n",
       "4        358.0          101          42              1      80           34   \n",
       "\n",
       "   loan_type  property_type  occupancy  action_type  loan_purpose  \\\n",
       "0          1              1          1            4             2   \n",
       "1          1              1          1            4             2   \n",
       "2          1              1          1            5             2   \n",
       "3          1              1          1            5             3   \n",
       "4          1              1          1            1             3   \n",
       "\n",
       "   agency_code  tract_to_msa_income_percent  applicant_race  co_applicant_sex  \\\n",
       "0            5                        97.09               6                 5   \n",
       "1            5                        98.27               3                 5   \n",
       "2            5                        72.28               6                 5   \n",
       "3            5                       105.87               6                 5   \n",
       "4            5                       139.62               5                 2   \n",
       "\n",
       "   log_income  log_loan_amount  loan_income_ratio  \n",
       "0    3.258097         1.609438           2.956512  \n",
       "1    3.258097         3.688879           5.035953  \n",
       "2    3.091042         2.995732           4.509860  \n",
       "3    4.043051         3.583519           4.145638  \n",
       "4    4.382027         3.526361           3.749504  "
      ]
     },
     "execution_count": 9,
     "metadata": {},
     "output_type": "execute_result"
    }
   ],
   "source": [
    "df1.head()"
   ]
  },
  {
   "cell_type": "markdown",
   "metadata": {},
   "source": [
    "### Co-applicants\n",
    "\n",
    "Right now we have a column about the co-applicant's sex (see the codebook for column details). We don't want the sex, though, we're interested in whether there is a co applicant or not. Use the co-applicant's sex to **create a new column called `co_applicant` that is either 'yes', 'no', or 'unknown'.**\n",
    "\n",
    "* **Hint:** If the co-applicant's sex was not provided or is not applicable, count it as unknown.\n",
    "* **Hint:** The easiest way is to use `.replace` on the co-applicant sex column, but store the result in your new column"
   ]
  },
  {
   "cell_type": "code",
   "execution_count": 10,
   "metadata": {},
   "outputs": [],
   "source": [
    "#Sex\n",
    "#1-Male, 2-Female, 3-Information not provided, 4-Not applicable, 5-No co-applicant"
   ]
  },
  {
   "cell_type": "code",
   "execution_count": 11,
   "metadata": {},
   "outputs": [],
   "source": [
    "df1['co_applicant']=df1['co_applicant_sex'].replace([1,2],'yes').replace([3,4], 'unknown').replace(5,'no')\n",
    "\n",
    "#注意数字不需要加引号"
   ]
  },
  {
   "cell_type": "code",
   "execution_count": 12,
   "metadata": {},
   "outputs": [
    {
     "data": {
      "text/html": [
       "<div>\n",
       "<style scoped>\n",
       "    .dataframe tbody tr th:only-of-type {\n",
       "        vertical-align: middle;\n",
       "    }\n",
       "\n",
       "    .dataframe tbody tr th {\n",
       "        vertical-align: top;\n",
       "    }\n",
       "\n",
       "    .dataframe thead th {\n",
       "        text-align: right;\n",
       "    }\n",
       "</style>\n",
       "<table border=\"1\" class=\"dataframe\">\n",
       "  <thead>\n",
       "    <tr style=\"text-align: right;\">\n",
       "      <th></th>\n",
       "      <th>census_tract</th>\n",
       "      <th>county_code</th>\n",
       "      <th>state_code</th>\n",
       "      <th>applicant_sex</th>\n",
       "      <th>income</th>\n",
       "      <th>loan_amount</th>\n",
       "      <th>loan_type</th>\n",
       "      <th>property_type</th>\n",
       "      <th>occupancy</th>\n",
       "      <th>action_type</th>\n",
       "      <th>loan_purpose</th>\n",
       "      <th>agency_code</th>\n",
       "      <th>tract_to_msa_income_percent</th>\n",
       "      <th>applicant_race</th>\n",
       "      <th>co_applicant_sex</th>\n",
       "      <th>log_income</th>\n",
       "      <th>log_loan_amount</th>\n",
       "      <th>loan_income_ratio</th>\n",
       "      <th>co_applicant</th>\n",
       "    </tr>\n",
       "  </thead>\n",
       "  <tbody>\n",
       "    <tr>\n",
       "      <th>0</th>\n",
       "      <td>101.0</td>\n",
       "      <td>101</td>\n",
       "      <td>42</td>\n",
       "      <td>3</td>\n",
       "      <td>26</td>\n",
       "      <td>5</td>\n",
       "      <td>1</td>\n",
       "      <td>1</td>\n",
       "      <td>1</td>\n",
       "      <td>4</td>\n",
       "      <td>2</td>\n",
       "      <td>5</td>\n",
       "      <td>97.09</td>\n",
       "      <td>6</td>\n",
       "      <td>5</td>\n",
       "      <td>3.258097</td>\n",
       "      <td>1.609438</td>\n",
       "      <td>2.956512</td>\n",
       "      <td>no</td>\n",
       "    </tr>\n",
       "    <tr>\n",
       "      <th>1</th>\n",
       "      <td>264.0</td>\n",
       "      <td>101</td>\n",
       "      <td>42</td>\n",
       "      <td>2</td>\n",
       "      <td>26</td>\n",
       "      <td>40</td>\n",
       "      <td>1</td>\n",
       "      <td>1</td>\n",
       "      <td>1</td>\n",
       "      <td>4</td>\n",
       "      <td>2</td>\n",
       "      <td>5</td>\n",
       "      <td>98.27</td>\n",
       "      <td>3</td>\n",
       "      <td>5</td>\n",
       "      <td>3.258097</td>\n",
       "      <td>3.688879</td>\n",
       "      <td>5.035953</td>\n",
       "      <td>no</td>\n",
       "    </tr>\n",
       "    <tr>\n",
       "      <th>2</th>\n",
       "      <td>281.0</td>\n",
       "      <td>101</td>\n",
       "      <td>42</td>\n",
       "      <td>2</td>\n",
       "      <td>22</td>\n",
       "      <td>20</td>\n",
       "      <td>1</td>\n",
       "      <td>1</td>\n",
       "      <td>1</td>\n",
       "      <td>5</td>\n",
       "      <td>2</td>\n",
       "      <td>5</td>\n",
       "      <td>72.28</td>\n",
       "      <td>6</td>\n",
       "      <td>5</td>\n",
       "      <td>3.091042</td>\n",
       "      <td>2.995732</td>\n",
       "      <td>4.509860</td>\n",
       "      <td>no</td>\n",
       "    </tr>\n",
       "    <tr>\n",
       "      <th>3</th>\n",
       "      <td>158.0</td>\n",
       "      <td>101</td>\n",
       "      <td>42</td>\n",
       "      <td>2</td>\n",
       "      <td>57</td>\n",
       "      <td>36</td>\n",
       "      <td>1</td>\n",
       "      <td>1</td>\n",
       "      <td>1</td>\n",
       "      <td>5</td>\n",
       "      <td>3</td>\n",
       "      <td>5</td>\n",
       "      <td>105.87</td>\n",
       "      <td>6</td>\n",
       "      <td>5</td>\n",
       "      <td>4.043051</td>\n",
       "      <td>3.583519</td>\n",
       "      <td>4.145638</td>\n",
       "      <td>no</td>\n",
       "    </tr>\n",
       "    <tr>\n",
       "      <th>4</th>\n",
       "      <td>358.0</td>\n",
       "      <td>101</td>\n",
       "      <td>42</td>\n",
       "      <td>1</td>\n",
       "      <td>80</td>\n",
       "      <td>34</td>\n",
       "      <td>1</td>\n",
       "      <td>1</td>\n",
       "      <td>1</td>\n",
       "      <td>1</td>\n",
       "      <td>3</td>\n",
       "      <td>5</td>\n",
       "      <td>139.62</td>\n",
       "      <td>5</td>\n",
       "      <td>2</td>\n",
       "      <td>4.382027</td>\n",
       "      <td>3.526361</td>\n",
       "      <td>3.749504</td>\n",
       "      <td>yes</td>\n",
       "    </tr>\n",
       "  </tbody>\n",
       "</table>\n",
       "</div>"
      ],
      "text/plain": [
       "  census_tract  county_code  state_code  applicant_sex  income  loan_amount  \\\n",
       "0        101.0          101          42              3      26            5   \n",
       "1        264.0          101          42              2      26           40   \n",
       "2        281.0          101          42              2      22           20   \n",
       "3        158.0          101          42              2      57           36   \n",
       "4        358.0          101          42              1      80           34   \n",
       "\n",
       "   loan_type  property_type  occupancy  action_type  loan_purpose  \\\n",
       "0          1              1          1            4             2   \n",
       "1          1              1          1            4             2   \n",
       "2          1              1          1            5             2   \n",
       "3          1              1          1            5             3   \n",
       "4          1              1          1            1             3   \n",
       "\n",
       "   agency_code  tract_to_msa_income_percent  applicant_race  co_applicant_sex  \\\n",
       "0            5                        97.09               6                 5   \n",
       "1            5                        98.27               3                 5   \n",
       "2            5                        72.28               6                 5   \n",
       "3            5                       105.87               6                 5   \n",
       "4            5                       139.62               5                 2   \n",
       "\n",
       "   log_income  log_loan_amount  loan_income_ratio co_applicant  \n",
       "0    3.258097         1.609438           2.956512           no  \n",
       "1    3.258097         3.688879           5.035953           no  \n",
       "2    3.091042         2.995732           4.509860           no  \n",
       "3    4.043051         3.583519           4.145638           no  \n",
       "4    4.382027         3.526361           3.749504          yes  "
      ]
     },
     "execution_count": 12,
     "metadata": {},
     "output_type": "execute_result"
    }
   ],
   "source": [
    "df1.head()"
   ]
  },
  {
   "cell_type": "code",
   "execution_count": 13,
   "metadata": {},
   "outputs": [
    {
     "data": {
      "text/plain": [
       "no         40154\n",
       "yes        17982\n",
       "unknown     2569\n",
       "Name: co_applicant, dtype: int64"
      ]
     },
     "execution_count": 13,
     "metadata": {},
     "output_type": "execute_result"
    }
   ],
   "source": [
    "df1['co_applicant'].value_counts()"
   ]
  },
  {
   "cell_type": "markdown",
   "metadata": {},
   "source": [
    "# Filter loan applicants\n",
    "\n",
    "If you read the whitepaper - `lending_disparities_whitepaper_180214.pdf` - many filters are used to get to the target dataset for analysis.\n",
    "\n",
    "> **Loan type**\n",
    ">\n",
    "> While we recognize the substantial presence of applicants of color in the FHA market, we focused on conventional home loans for several reasons.\n",
    "\n",
    "> **Property type**\n",
    ">\n",
    "> Prospective borrowers submit loan applications for various types of structures: one- to four-unit properties, multifamily properties and manufactured homes. For this analysis, we focused on one- to four-unit properties.\n",
    "\n",
    "> **Occupancy**\n",
    ">\n",
    "> We included only borrowers who said they planned to live in the house they were looking to buy. We did this to exclude developers or individuals who were buying property as an investment or to subsequently flip it.\n",
    "\n",
    "> **Action Type**\n",
    ">\n",
    "> We wanted to look at the reasons lending institutions deny people a mortgage. After conversations with former officials at HUD, we decided to include only those applications that resulted in originations (action type 1) or denials (action type 3)\n",
    "\n",
    "> **Income**\n",
    ">\n",
    "> An applicant’s income isn’t always reported in the data. In other cases, the data cuts off any incomes over \\\\$9.9 million and any loan amounts over \\\\$99.9 million, meaning there’s a value in the database, but it’s not precise. We focused only on those records where income and loan amount have an accurate estimation. This meant discarding about 1 percent of all conventional home loans in the country for 2016. [Note: I already edited this]\n",
    ">\n",
    "> When we plotted the number of applicants, how much money they made and the size of the loan, we found that it skewed to the left, meaning the majority of applicants were clustered on the lower end of the income and loan amount scales. This was especially true for applicants of color. We took the logarithm transformation of income and loan amount to normalize the distribution of those variables and limit the effect of extreme outliers.\n",
    "\n",
    "> **Lien status**\n",
    ">\n",
    "> We included all cases in our analysis regardless of lien status.\n",
    "\n",
    "> **Race and ethnicity**\n",
    ">\n",
    "> At first, we looked at race separate from ethnicity, but that approach introduced too many instances in which​ ​either the ethnicity or race was unknown. So we decided to combine race and ethnicity. Applicants who marked their ethnicity as Hispanic were grouped together as Hispanic/Latino regardless of race. Non-Hispanic applicants, as well as those who didn’t provide an ethnicity, were grouped together by race: non-Hispanic white, non-Hispanic black, etc. **[Note: This has already been taken care of]**\n",
    "\n",
    "> **Loan purpose**\n",
    ">\n",
    "> We decided to look at home purchase, home improvement and refinance loans separately from each other. [Note: please look at **home purchase** loans.]\n",
    "\n",
    "Use the text above (it's from the whitepaper) and the **2015HMDACodeSheet.pdf** code book to filter the dataset.\n",
    "\n",
    "* **Tip:** there should be between 5-8 filters, depending on how you write them."
   ]
  },
  {
   "cell_type": "code",
   "execution_count": 14,
   "metadata": {},
   "outputs": [
    {
     "data": {
      "text/plain": [
       "1    47028\n",
       "Name: loan_type, dtype: int64"
      ]
     },
     "execution_count": 14,
     "metadata": {},
     "output_type": "execute_result"
    }
   ],
   "source": [
    "df1 = df1[df1['loan_type']==1]\n",
    "df1.loan_type.value_counts()"
   ]
  },
  {
   "cell_type": "code",
   "execution_count": 15,
   "metadata": {},
   "outputs": [
    {
     "data": {
      "text/plain": [
       "1    46970\n",
       "Name: property_type, dtype: int64"
      ]
     },
     "execution_count": 15,
     "metadata": {},
     "output_type": "execute_result"
    }
   ],
   "source": [
    "#property type=1, one- to four-unit properties\n",
    "df1=df1[df1['property_type']==1]\n",
    "df1.property_type.value_counts()"
   ]
  },
  {
   "cell_type": "code",
   "execution_count": 16,
   "metadata": {},
   "outputs": [
    {
     "data": {
      "text/plain": [
       "1    40036\n",
       "Name: occupancy, dtype: int64"
      ]
     },
     "execution_count": 16,
     "metadata": {},
     "output_type": "execute_result"
    }
   ],
   "source": [
    "#occupancy =1, owner-occupied as a principal dwelling\n",
    "df1=df1[df1['occupancy']==1]\n",
    "df1.occupancy.value_counts()"
   ]
  },
  {
   "cell_type": "code",
   "execution_count": 17,
   "metadata": {},
   "outputs": [
    {
     "data": {
      "text/plain": [
       "1    20364\n",
       "3    10688\n",
       "Name: action_type, dtype: int64"
      ]
     },
     "execution_count": 17,
     "metadata": {},
     "output_type": "execute_result"
    }
   ],
   "source": [
    "#action_type =1,3\n",
    "df1=df1[(df1.action_type==1) | (df1.action_type==3)]\n",
    "df1.action_type.value_counts()"
   ]
  },
  {
   "cell_type": "code",
   "execution_count": 18,
   "metadata": {},
   "outputs": [],
   "source": [
    "#income  不知道这筛选条件是什么\n",
    "#Lien status 不做筛选\n",
    "#Race and ethnicity 已经处理好 不用做"
   ]
  },
  {
   "cell_type": "code",
   "execution_count": 19,
   "metadata": {},
   "outputs": [
    {
     "data": {
      "text/plain": [
       "1    10107\n",
       "Name: loan_purpose, dtype: int64"
      ]
     },
     "execution_count": 19,
     "metadata": {},
     "output_type": "execute_result"
    }
   ],
   "source": [
    "#Loan purpose 选1 \n",
    "df1=df1[df1.loan_purpose==1]\n",
    "df1.loan_purpose.value_counts()"
   ]
  },
  {
   "cell_type": "markdown",
   "metadata": {},
   "source": [
    "When you're done filtering, save your dataframe as a \"copy\" with `df = df.copy()` (if it's called `df`, of course). This will prevent irritating warnings when you're trying to create new columns.\n",
    "\n",
    "### Confirm that you have 10,107 loans with 19 columns"
   ]
  },
  {
   "cell_type": "code",
   "execution_count": 20,
   "metadata": {},
   "outputs": [
    {
     "data": {
      "text/plain": [
       "(10107, 19)"
      ]
     },
     "execution_count": 20,
     "metadata": {},
     "output_type": "execute_result"
    }
   ],
   "source": [
    "df1.shape"
   ]
  },
  {
   "cell_type": "code",
   "execution_count": 33,
   "metadata": {},
   "outputs": [],
   "source": [
    "df1 = df1.copy()"
   ]
  },
  {
   "cell_type": "markdown",
   "metadata": {},
   "source": [
    "### Create a \"loan denied\" column\n",
    "\n",
    "Right now the `action_type` category reflects whether the loan was granted or not, and either has a value of `1` or `3`.\n",
    "\n",
    "Create a new column called `loan_denied`, where the value is `0` if the loan was accepted and `1` if the loan was denied. **This will be our target for the machine learning algorithm.**\n",
    "\n",
    "* **Tip:** You should have 8,878 successful loans and 1,229 denied loans"
   ]
  },
  {
   "cell_type": "code",
   "execution_count": 21,
   "metadata": {},
   "outputs": [
    {
     "data": {
      "text/plain": [
       "0    8878\n",
       "1    1229\n",
       "Name: loan_denied, dtype: int64"
      ]
     },
     "execution_count": 21,
     "metadata": {},
     "output_type": "execute_result"
    }
   ],
   "source": [
    "df1['loan_denied']=df1.action_type.replace(1,0).replace(3,1)\n",
    "df1['loan_denied'].value_counts()"
   ]
  },
  {
   "cell_type": "markdown",
   "metadata": {},
   "source": [
    "# Deal with categorical variables\n",
    "\n",
    "Let's go ahead and take a look at our categorical variables:\n",
    "\n",
    "* Applicant sex (male, female, na)\n",
    "* Applicant race\n",
    "* Mortgage agency\n",
    "* Co-applicant (yes, no, unknown)\n",
    "\n",
    "Before we do anything crazy, let's use the codebook to turn them into strings.\n",
    "\n",
    "* **Tip:** We already did this with the `co_applicant` column, you only need to do the rest\n",
    "* **Tip:** Just use `.replace`"
   ]
  },
  {
   "cell_type": "code",
   "execution_count": 22,
   "metadata": {},
   "outputs": [
    {
     "data": {
      "text/html": [
       "<div>\n",
       "<style scoped>\n",
       "    .dataframe tbody tr th:only-of-type {\n",
       "        vertical-align: middle;\n",
       "    }\n",
       "\n",
       "    .dataframe tbody tr th {\n",
       "        vertical-align: top;\n",
       "    }\n",
       "\n",
       "    .dataframe thead th {\n",
       "        text-align: right;\n",
       "    }\n",
       "</style>\n",
       "<table border=\"1\" class=\"dataframe\">\n",
       "  <thead>\n",
       "    <tr style=\"text-align: right;\">\n",
       "      <th></th>\n",
       "      <th>census_tract</th>\n",
       "      <th>county_code</th>\n",
       "      <th>state_code</th>\n",
       "      <th>applicant_sex</th>\n",
       "      <th>income</th>\n",
       "      <th>loan_amount</th>\n",
       "      <th>loan_type</th>\n",
       "      <th>property_type</th>\n",
       "      <th>occupancy</th>\n",
       "      <th>action_type</th>\n",
       "      <th>loan_purpose</th>\n",
       "      <th>agency_code</th>\n",
       "      <th>tract_to_msa_income_percent</th>\n",
       "      <th>applicant_race</th>\n",
       "      <th>co_applicant_sex</th>\n",
       "      <th>log_income</th>\n",
       "      <th>log_loan_amount</th>\n",
       "      <th>loan_income_ratio</th>\n",
       "      <th>co_applicant</th>\n",
       "      <th>loan_denied</th>\n",
       "    </tr>\n",
       "  </thead>\n",
       "  <tbody>\n",
       "    <tr>\n",
       "      <th>42</th>\n",
       "      <td>4019.0</td>\n",
       "      <td>45</td>\n",
       "      <td>42</td>\n",
       "      <td>2</td>\n",
       "      <td>59</td>\n",
       "      <td>112</td>\n",
       "      <td>1</td>\n",
       "      <td>1</td>\n",
       "      <td>1</td>\n",
       "      <td>1</td>\n",
       "      <td>1</td>\n",
       "      <td>1</td>\n",
       "      <td>133.09</td>\n",
       "      <td>5</td>\n",
       "      <td>5</td>\n",
       "      <td>4.077537</td>\n",
       "      <td>4.718499</td>\n",
       "      <td>5.246132</td>\n",
       "      <td>no</td>\n",
       "      <td>0</td>\n",
       "    </tr>\n",
       "    <tr>\n",
       "      <th>43</th>\n",
       "      <td>4099.02</td>\n",
       "      <td>45</td>\n",
       "      <td>42</td>\n",
       "      <td>3</td>\n",
       "      <td>177</td>\n",
       "      <td>375</td>\n",
       "      <td>1</td>\n",
       "      <td>1</td>\n",
       "      <td>1</td>\n",
       "      <td>1</td>\n",
       "      <td>1</td>\n",
       "      <td>1</td>\n",
       "      <td>208.56</td>\n",
       "      <td>6</td>\n",
       "      <td>3</td>\n",
       "      <td>5.176150</td>\n",
       "      <td>5.926926</td>\n",
       "      <td>5.355946</td>\n",
       "      <td>unknown</td>\n",
       "      <td>0</td>\n",
       "    </tr>\n",
       "    <tr>\n",
       "      <th>46</th>\n",
       "      <td>4102.0</td>\n",
       "      <td>45</td>\n",
       "      <td>42</td>\n",
       "      <td>1</td>\n",
       "      <td>150</td>\n",
       "      <td>381</td>\n",
       "      <td>1</td>\n",
       "      <td>1</td>\n",
       "      <td>1</td>\n",
       "      <td>1</td>\n",
       "      <td>1</td>\n",
       "      <td>1</td>\n",
       "      <td>215.35</td>\n",
       "      <td>5</td>\n",
       "      <td>5</td>\n",
       "      <td>5.010635</td>\n",
       "      <td>5.942799</td>\n",
       "      <td>5.537334</td>\n",
       "      <td>no</td>\n",
       "      <td>0</td>\n",
       "    </tr>\n",
       "    <tr>\n",
       "      <th>48</th>\n",
       "      <td>312.0</td>\n",
       "      <td>101</td>\n",
       "      <td>42</td>\n",
       "      <td>2</td>\n",
       "      <td>65</td>\n",
       "      <td>136</td>\n",
       "      <td>1</td>\n",
       "      <td>1</td>\n",
       "      <td>1</td>\n",
       "      <td>1</td>\n",
       "      <td>1</td>\n",
       "      <td>1</td>\n",
       "      <td>93.11</td>\n",
       "      <td>2</td>\n",
       "      <td>5</td>\n",
       "      <td>4.174387</td>\n",
       "      <td>4.912655</td>\n",
       "      <td>5.343438</td>\n",
       "      <td>no</td>\n",
       "      <td>0</td>\n",
       "    </tr>\n",
       "    <tr>\n",
       "      <th>51</th>\n",
       "      <td>4036.01</td>\n",
       "      <td>45</td>\n",
       "      <td>42</td>\n",
       "      <td>2</td>\n",
       "      <td>55</td>\n",
       "      <td>196</td>\n",
       "      <td>1</td>\n",
       "      <td>1</td>\n",
       "      <td>1</td>\n",
       "      <td>1</td>\n",
       "      <td>1</td>\n",
       "      <td>1</td>\n",
       "      <td>141.83</td>\n",
       "      <td>2</td>\n",
       "      <td>5</td>\n",
       "      <td>4.007333</td>\n",
       "      <td>5.278115</td>\n",
       "      <td>5.875952</td>\n",
       "      <td>no</td>\n",
       "      <td>0</td>\n",
       "    </tr>\n",
       "  </tbody>\n",
       "</table>\n",
       "</div>"
      ],
      "text/plain": [
       "   census_tract  county_code  state_code  applicant_sex  income  loan_amount  \\\n",
       "42       4019.0           45          42              2      59          112   \n",
       "43      4099.02           45          42              3     177          375   \n",
       "46       4102.0           45          42              1     150          381   \n",
       "48        312.0          101          42              2      65          136   \n",
       "51      4036.01           45          42              2      55          196   \n",
       "\n",
       "    loan_type  property_type  occupancy  action_type  loan_purpose  \\\n",
       "42          1              1          1            1             1   \n",
       "43          1              1          1            1             1   \n",
       "46          1              1          1            1             1   \n",
       "48          1              1          1            1             1   \n",
       "51          1              1          1            1             1   \n",
       "\n",
       "    agency_code  tract_to_msa_income_percent  applicant_race  \\\n",
       "42            1                       133.09               5   \n",
       "43            1                       208.56               6   \n",
       "46            1                       215.35               5   \n",
       "48            1                        93.11               2   \n",
       "51            1                       141.83               2   \n",
       "\n",
       "    co_applicant_sex  log_income  log_loan_amount  loan_income_ratio  \\\n",
       "42                 5    4.077537         4.718499           5.246132   \n",
       "43                 3    5.176150         5.926926           5.355946   \n",
       "46                 5    5.010635         5.942799           5.537334   \n",
       "48                 5    4.174387         4.912655           5.343438   \n",
       "51                 5    4.007333         5.278115           5.875952   \n",
       "\n",
       "   co_applicant  loan_denied  \n",
       "42           no            0  \n",
       "43      unknown            0  \n",
       "46           no            0  \n",
       "48           no            0  \n",
       "51           no            0  "
      ]
     },
     "execution_count": 22,
     "metadata": {},
     "output_type": "execute_result"
    }
   ],
   "source": [
    "df1.head()"
   ]
  },
  {
   "cell_type": "code",
   "execution_count": 23,
   "metadata": {},
   "outputs": [
    {
     "data": {
      "text/plain": [
       "male      5886\n",
       "female    3539\n",
       "na         682\n",
       "Name: applicant_sex, dtype: int64"
      ]
     },
     "execution_count": 23,
     "metadata": {},
     "output_type": "execute_result"
    }
   ],
   "source": [
    "df1.applicant_sex = df1.applicant_sex.replace(1,'male').replace(2,'female').replace([3,4,5], 'na')\n",
    "df1.applicant_sex.value_counts()"
   ]
  },
  {
   "cell_type": "code",
   "execution_count": 24,
   "metadata": {},
   "outputs": [
    {
     "data": {
      "text/plain": [
       "white       6403\n",
       "na          1439\n",
       "asian       1070\n",
       "black        759\n",
       "hispanic     391\n",
       "island        28\n",
       "native        17\n",
       "Name: applicant_race, dtype: int64"
      ]
     },
     "execution_count": 24,
     "metadata": {},
     "output_type": "execute_result"
    }
   ],
   "source": [
    "df1.applicant_race=df1.applicant_race.replace(1,'native').replace(2,'asian').replace(3,'black').replace(4,'island').replace(5,'white').replace([6,7,8],'na').replace(99,'hispanic')\n",
    "df1.applicant_race.value_counts()"
   ]
  },
  {
   "cell_type": "code",
   "execution_count": 25,
   "metadata": {},
   "outputs": [
    {
     "data": {
      "text/plain": [
       "HUD     4514\n",
       "CFPB    2963\n",
       "FDIC     954\n",
       "NCUA     836\n",
       "FRS      428\n",
       "OCC      412\n",
       "Name: agency_code, dtype: int64"
      ]
     },
     "execution_count": 25,
     "metadata": {},
     "output_type": "execute_result"
    }
   ],
   "source": [
    "df1.agency_code=df1.agency_code.replace(1,'OCC').replace(2,'FRS').replace(3,'FDIC').replace(5,'NCUA').replace(7,'HUD').replace(9,'CFPB')\n",
    "df1.agency_code.value_counts()"
   ]
  },
  {
   "cell_type": "code",
   "execution_count": 26,
   "metadata": {},
   "outputs": [
    {
     "data": {
      "text/plain": [
       "na        6358\n",
       "Female    2689\n",
       "Male      1060\n",
       "Name: co_applicant_sex, dtype: int64"
      ]
     },
     "execution_count": 26,
     "metadata": {},
     "output_type": "execute_result"
    }
   ],
   "source": [
    "df1.co_applicant_sex=df1.co_applicant_sex.replace(1,'Male').replace(2,'Female').replace([3,4,5],'na')\n",
    "df1.co_applicant_sex.value_counts()"
   ]
  },
  {
   "cell_type": "code",
   "execution_count": 27,
   "metadata": {},
   "outputs": [
    {
     "data": {
      "text/html": [
       "<div>\n",
       "<style scoped>\n",
       "    .dataframe tbody tr th:only-of-type {\n",
       "        vertical-align: middle;\n",
       "    }\n",
       "\n",
       "    .dataframe tbody tr th {\n",
       "        vertical-align: top;\n",
       "    }\n",
       "\n",
       "    .dataframe thead th {\n",
       "        text-align: right;\n",
       "    }\n",
       "</style>\n",
       "<table border=\"1\" class=\"dataframe\">\n",
       "  <thead>\n",
       "    <tr style=\"text-align: right;\">\n",
       "      <th></th>\n",
       "      <th>census_tract</th>\n",
       "      <th>county_code</th>\n",
       "      <th>state_code</th>\n",
       "      <th>applicant_sex</th>\n",
       "      <th>income</th>\n",
       "      <th>loan_amount</th>\n",
       "      <th>loan_type</th>\n",
       "      <th>property_type</th>\n",
       "      <th>occupancy</th>\n",
       "      <th>action_type</th>\n",
       "      <th>loan_purpose</th>\n",
       "      <th>agency_code</th>\n",
       "      <th>tract_to_msa_income_percent</th>\n",
       "      <th>applicant_race</th>\n",
       "      <th>co_applicant_sex</th>\n",
       "      <th>log_income</th>\n",
       "      <th>log_loan_amount</th>\n",
       "      <th>loan_income_ratio</th>\n",
       "      <th>co_applicant</th>\n",
       "      <th>loan_denied</th>\n",
       "    </tr>\n",
       "  </thead>\n",
       "  <tbody>\n",
       "    <tr>\n",
       "      <th>42</th>\n",
       "      <td>4019.0</td>\n",
       "      <td>45</td>\n",
       "      <td>42</td>\n",
       "      <td>female</td>\n",
       "      <td>59</td>\n",
       "      <td>112</td>\n",
       "      <td>1</td>\n",
       "      <td>1</td>\n",
       "      <td>1</td>\n",
       "      <td>1</td>\n",
       "      <td>1</td>\n",
       "      <td>OCC</td>\n",
       "      <td>133.09</td>\n",
       "      <td>white</td>\n",
       "      <td>na</td>\n",
       "      <td>4.077537</td>\n",
       "      <td>4.718499</td>\n",
       "      <td>5.246132</td>\n",
       "      <td>no</td>\n",
       "      <td>0</td>\n",
       "    </tr>\n",
       "    <tr>\n",
       "      <th>43</th>\n",
       "      <td>4099.02</td>\n",
       "      <td>45</td>\n",
       "      <td>42</td>\n",
       "      <td>na</td>\n",
       "      <td>177</td>\n",
       "      <td>375</td>\n",
       "      <td>1</td>\n",
       "      <td>1</td>\n",
       "      <td>1</td>\n",
       "      <td>1</td>\n",
       "      <td>1</td>\n",
       "      <td>OCC</td>\n",
       "      <td>208.56</td>\n",
       "      <td>na</td>\n",
       "      <td>na</td>\n",
       "      <td>5.176150</td>\n",
       "      <td>5.926926</td>\n",
       "      <td>5.355946</td>\n",
       "      <td>unknown</td>\n",
       "      <td>0</td>\n",
       "    </tr>\n",
       "    <tr>\n",
       "      <th>46</th>\n",
       "      <td>4102.0</td>\n",
       "      <td>45</td>\n",
       "      <td>42</td>\n",
       "      <td>male</td>\n",
       "      <td>150</td>\n",
       "      <td>381</td>\n",
       "      <td>1</td>\n",
       "      <td>1</td>\n",
       "      <td>1</td>\n",
       "      <td>1</td>\n",
       "      <td>1</td>\n",
       "      <td>OCC</td>\n",
       "      <td>215.35</td>\n",
       "      <td>white</td>\n",
       "      <td>na</td>\n",
       "      <td>5.010635</td>\n",
       "      <td>5.942799</td>\n",
       "      <td>5.537334</td>\n",
       "      <td>no</td>\n",
       "      <td>0</td>\n",
       "    </tr>\n",
       "    <tr>\n",
       "      <th>48</th>\n",
       "      <td>312.0</td>\n",
       "      <td>101</td>\n",
       "      <td>42</td>\n",
       "      <td>female</td>\n",
       "      <td>65</td>\n",
       "      <td>136</td>\n",
       "      <td>1</td>\n",
       "      <td>1</td>\n",
       "      <td>1</td>\n",
       "      <td>1</td>\n",
       "      <td>1</td>\n",
       "      <td>OCC</td>\n",
       "      <td>93.11</td>\n",
       "      <td>asian</td>\n",
       "      <td>na</td>\n",
       "      <td>4.174387</td>\n",
       "      <td>4.912655</td>\n",
       "      <td>5.343438</td>\n",
       "      <td>no</td>\n",
       "      <td>0</td>\n",
       "    </tr>\n",
       "    <tr>\n",
       "      <th>51</th>\n",
       "      <td>4036.01</td>\n",
       "      <td>45</td>\n",
       "      <td>42</td>\n",
       "      <td>female</td>\n",
       "      <td>55</td>\n",
       "      <td>196</td>\n",
       "      <td>1</td>\n",
       "      <td>1</td>\n",
       "      <td>1</td>\n",
       "      <td>1</td>\n",
       "      <td>1</td>\n",
       "      <td>OCC</td>\n",
       "      <td>141.83</td>\n",
       "      <td>asian</td>\n",
       "      <td>na</td>\n",
       "      <td>4.007333</td>\n",
       "      <td>5.278115</td>\n",
       "      <td>5.875952</td>\n",
       "      <td>no</td>\n",
       "      <td>0</td>\n",
       "    </tr>\n",
       "  </tbody>\n",
       "</table>\n",
       "</div>"
      ],
      "text/plain": [
       "   census_tract  county_code  state_code applicant_sex  income  loan_amount  \\\n",
       "42       4019.0           45          42        female      59          112   \n",
       "43      4099.02           45          42            na     177          375   \n",
       "46       4102.0           45          42          male     150          381   \n",
       "48        312.0          101          42        female      65          136   \n",
       "51      4036.01           45          42        female      55          196   \n",
       "\n",
       "    loan_type  property_type  occupancy  action_type  loan_purpose  \\\n",
       "42          1              1          1            1             1   \n",
       "43          1              1          1            1             1   \n",
       "46          1              1          1            1             1   \n",
       "48          1              1          1            1             1   \n",
       "51          1              1          1            1             1   \n",
       "\n",
       "   agency_code  tract_to_msa_income_percent applicant_race co_applicant_sex  \\\n",
       "42         OCC                       133.09          white               na   \n",
       "43         OCC                       208.56             na               na   \n",
       "46         OCC                       215.35          white               na   \n",
       "48         OCC                        93.11          asian               na   \n",
       "51         OCC                       141.83          asian               na   \n",
       "\n",
       "    log_income  log_loan_amount  loan_income_ratio co_applicant  loan_denied  \n",
       "42    4.077537         4.718499           5.246132           no            0  \n",
       "43    5.176150         5.926926           5.355946      unknown            0  \n",
       "46    5.010635         5.942799           5.537334           no            0  \n",
       "48    4.174387         4.912655           5.343438           no            0  \n",
       "51    4.007333         5.278115           5.875952           no            0  "
      ]
     },
     "execution_count": 27,
     "metadata": {},
     "output_type": "execute_result"
    }
   ],
   "source": [
    "df1.head()"
   ]
  },
  {
   "cell_type": "markdown",
   "metadata": {},
   "source": [
    "Double-check these columns match these values in the first three rows (and yes, you should have a lot of other columns, too).\n",
    "\n",
    "|applicant_sex|agency_code|applicant_race|co_applicant|\n",
    "|---|---|---|---|\n",
    "|female|OCC|white|no|\n",
    "|na|OCC|na|unknown|\n",
    "|male|OCC|white|no|\n",
    "\n",
    "## Dummy variables\n",
    "\n",
    "Let's say we're at the end of the homework, and we have a column called `sex`, where `0` is female and `1` is male. After we've done our regression, we can look at the coefficient/odds ratio for `sex` and say something like **\"being male gives you a 1.5x odds of being denied a loan.\"**\n",
    "\n",
    "We can say this because we're looking at one column, and changing `sex` from `0` to `1` would turn the applicant male and give them a 1.5x chance of being denied (the odds ratio).\n",
    "\n",
    "**But let's say we're looking at a column called `race` instead.** We could do the same `0`/`1` thing with white/minority, but what about white/black/asian? If we try to give them `0`/`1`/`2` our coefficient/odds ratio interpreation stops working, because we don't have a nice True/False dichotomy any more, it's now a *real number*.\n",
    "\n",
    "* `0`: White\n",
    "* `1`: Black\n",
    "* `2`: Asian\n",
    "\n",
    "Usually with numbers you can say \"...for every increase of 1...\", but we can't anymore - changing from White to Black (+1) isn't the same as changing from Black to Asian (+1). And you can't subtract Black from Asian to get White. And no, you also can't average together White and Asian to get Black. Just recognize that these aren't numbers, they're categories!\n",
    "\n",
    "**How can we turn races off and on like we can turn the `sex` variable off and on?** A good option is to make *a `0`/`1` column for each race*. We can then flip each race off and on. These are called **dummy variables**."
   ]
  },
  {
   "cell_type": "code",
   "execution_count": 28,
   "metadata": {},
   "outputs": [
    {
     "data": {
      "text/html": [
       "<div>\n",
       "<style scoped>\n",
       "    .dataframe tbody tr th:only-of-type {\n",
       "        vertical-align: middle;\n",
       "    }\n",
       "\n",
       "    .dataframe tbody tr th {\n",
       "        vertical-align: top;\n",
       "    }\n",
       "\n",
       "    .dataframe thead th {\n",
       "        text-align: right;\n",
       "    }\n",
       "</style>\n",
       "<table border=\"1\" class=\"dataframe\">\n",
       "  <thead>\n",
       "    <tr style=\"text-align: right;\">\n",
       "      <th></th>\n",
       "      <th>race_asian</th>\n",
       "      <th>race_black</th>\n",
       "      <th>race_hispanic</th>\n",
       "      <th>race_island</th>\n",
       "      <th>race_na</th>\n",
       "      <th>race_native</th>\n",
       "      <th>race_white</th>\n",
       "    </tr>\n",
       "  </thead>\n",
       "  <tbody>\n",
       "    <tr>\n",
       "      <th>42</th>\n",
       "      <td>0</td>\n",
       "      <td>0</td>\n",
       "      <td>0</td>\n",
       "      <td>0</td>\n",
       "      <td>0</td>\n",
       "      <td>0</td>\n",
       "      <td>1</td>\n",
       "    </tr>\n",
       "    <tr>\n",
       "      <th>43</th>\n",
       "      <td>0</td>\n",
       "      <td>0</td>\n",
       "      <td>0</td>\n",
       "      <td>0</td>\n",
       "      <td>1</td>\n",
       "      <td>0</td>\n",
       "      <td>0</td>\n",
       "    </tr>\n",
       "    <tr>\n",
       "      <th>46</th>\n",
       "      <td>0</td>\n",
       "      <td>0</td>\n",
       "      <td>0</td>\n",
       "      <td>0</td>\n",
       "      <td>0</td>\n",
       "      <td>0</td>\n",
       "      <td>1</td>\n",
       "    </tr>\n",
       "    <tr>\n",
       "      <th>48</th>\n",
       "      <td>1</td>\n",
       "      <td>0</td>\n",
       "      <td>0</td>\n",
       "      <td>0</td>\n",
       "      <td>0</td>\n",
       "      <td>0</td>\n",
       "      <td>0</td>\n",
       "    </tr>\n",
       "    <tr>\n",
       "      <th>51</th>\n",
       "      <td>1</td>\n",
       "      <td>0</td>\n",
       "      <td>0</td>\n",
       "      <td>0</td>\n",
       "      <td>0</td>\n",
       "      <td>0</td>\n",
       "      <td>0</td>\n",
       "    </tr>\n",
       "  </tbody>\n",
       "</table>\n",
       "</div>"
      ],
      "text/plain": [
       "    race_asian  race_black  race_hispanic  race_island  race_na  race_native  \\\n",
       "42           0           0              0            0        0            0   \n",
       "43           0           0              0            0        1            0   \n",
       "46           0           0              0            0        0            0   \n",
       "48           1           0              0            0        0            0   \n",
       "51           1           0              0            0        0            0   \n",
       "\n",
       "    race_white  \n",
       "42           1  \n",
       "43           0  \n",
       "46           1  \n",
       "48           0  \n",
       "51           0  "
      ]
     },
     "execution_count": 28,
     "metadata": {},
     "output_type": "execute_result"
    }
   ],
   "source": [
    "pd.get_dummies(df1.applicant_race, prefix='race').head()\n",
    "#新函数，prefix不知道是什么"
   ]
  },
  {
   "cell_type": "markdown",
   "metadata": {},
   "source": [
    "Seems to take up a lot of space, but it works a lot better.\n",
    "\n",
    "* The first person is white, so they have a `1` for white and a `0` for every other race\n",
    "* The second person is N/A, so they have a `1` for N/A and a `0` for every other race\n",
    "* The next three are white, asian, and asian, so they have a `1` under the appropriate column.\n",
    "\n",
    "When you're looking at the regression output, each column has its own coefficient (and odds ratio). Since each race now has a column, **each race will also have its own odds ratio.** Asian would have one, Black would have one, Latino would have one - now we can look at the effect of each race separately. For example, you could then say something like \"being Asian (e.g., `race_asian` going from `0` to `1`) gives you a 1.2x greater chance of being denied, and being Black gets you a 2.1x chance of being denied.\"\n",
    "\n",
    "And no, you're never going to have more than one `1` in a row at the same time.\n",
    "\n",
    "After you've created your dummy variables, there's one more step which has a real fun name: **one-hot encoding.**\n",
    "\n",
    "### One-hot encoding\n",
    "\n",
    "When we have two sexes - male and female - we can flip between them with one binary digit, `0` and `1`.\n",
    "\n",
    "If we had three races - White, Asian, Black - using `pd.get_dummies` would make three columns, which makes sense on the surface. But why can we put TWO values in ONE column for sex, and it takes THREE columns for the THREE race values?\n",
    "\n",
    "The truth is, it doesn't have to!\n",
    "\n",
    "Instead of having three columns, we're only going to have two: **asian and black**. And if both of them are `0`? The applicant is white! This is called a **reference category**, and it means **the coefficients/odds ratios for asian and black are in reference to a white applicant.** So it isn't \"being black gets you a 2.1x chance of being denied,\" it's *being black gets you a 2.1x chance of being denied compared to a white person*. For example:\n",
    "\n",
    "|race_asian|race_black|person's race|\n",
    "|---|---|---|\n",
    "|1|0|Asian|\n",
    "|0|1|Black|\n",
    "|0|0|White|\n",
    "|1|1|Not possible if your source is a single race column|\n",
    "\n",
    "To create a one-hot encoded variable with a reference category, you write code like this:"
   ]
  },
  {
   "cell_type": "code",
   "execution_count": 29,
   "metadata": {},
   "outputs": [
    {
     "data": {
      "text/html": [
       "<div>\n",
       "<style scoped>\n",
       "    .dataframe tbody tr th:only-of-type {\n",
       "        vertical-align: middle;\n",
       "    }\n",
       "\n",
       "    .dataframe tbody tr th {\n",
       "        vertical-align: top;\n",
       "    }\n",
       "\n",
       "    .dataframe thead th {\n",
       "        text-align: right;\n",
       "    }\n",
       "</style>\n",
       "<table border=\"1\" class=\"dataframe\">\n",
       "  <thead>\n",
       "    <tr style=\"text-align: right;\">\n",
       "      <th></th>\n",
       "      <th>race_asian</th>\n",
       "      <th>race_black</th>\n",
       "      <th>race_hispanic</th>\n",
       "      <th>race_island</th>\n",
       "      <th>race_na</th>\n",
       "      <th>race_native</th>\n",
       "      <th>race_white</th>\n",
       "    </tr>\n",
       "  </thead>\n",
       "  <tbody>\n",
       "    <tr>\n",
       "      <th>42</th>\n",
       "      <td>0</td>\n",
       "      <td>0</td>\n",
       "      <td>0</td>\n",
       "      <td>0</td>\n",
       "      <td>0</td>\n",
       "      <td>0</td>\n",
       "      <td>1</td>\n",
       "    </tr>\n",
       "    <tr>\n",
       "      <th>43</th>\n",
       "      <td>0</td>\n",
       "      <td>0</td>\n",
       "      <td>0</td>\n",
       "      <td>0</td>\n",
       "      <td>1</td>\n",
       "      <td>0</td>\n",
       "      <td>0</td>\n",
       "    </tr>\n",
       "    <tr>\n",
       "      <th>46</th>\n",
       "      <td>0</td>\n",
       "      <td>0</td>\n",
       "      <td>0</td>\n",
       "      <td>0</td>\n",
       "      <td>0</td>\n",
       "      <td>0</td>\n",
       "      <td>1</td>\n",
       "    </tr>\n",
       "    <tr>\n",
       "      <th>48</th>\n",
       "      <td>1</td>\n",
       "      <td>0</td>\n",
       "      <td>0</td>\n",
       "      <td>0</td>\n",
       "      <td>0</td>\n",
       "      <td>0</td>\n",
       "      <td>0</td>\n",
       "    </tr>\n",
       "    <tr>\n",
       "      <th>51</th>\n",
       "      <td>1</td>\n",
       "      <td>0</td>\n",
       "      <td>0</td>\n",
       "      <td>0</td>\n",
       "      <td>0</td>\n",
       "      <td>0</td>\n",
       "      <td>0</td>\n",
       "    </tr>\n",
       "  </tbody>\n",
       "</table>\n",
       "</div>"
      ],
      "text/plain": [
       "    race_asian  race_black  race_hispanic  race_island  race_na  race_native  \\\n",
       "42           0           0              0            0        0            0   \n",
       "43           0           0              0            0        1            0   \n",
       "46           0           0              0            0        0            0   \n",
       "48           1           0              0            0        0            0   \n",
       "51           1           0              0            0        0            0   \n",
       "\n",
       "    race_white  \n",
       "42           1  \n",
       "43           0  \n",
       "46           1  \n",
       "48           0  \n",
       "51           0  "
      ]
     },
     "execution_count": 29,
     "metadata": {},
     "output_type": "execute_result"
    }
   ],
   "source": [
    "pd.get_dummies(df1.applicant_race, prefix='race').head()"
   ]
  },
  {
   "cell_type": "code",
   "execution_count": 30,
   "metadata": {},
   "outputs": [
    {
     "data": {
      "text/html": [
       "<div>\n",
       "<style scoped>\n",
       "    .dataframe tbody tr th:only-of-type {\n",
       "        vertical-align: middle;\n",
       "    }\n",
       "\n",
       "    .dataframe tbody tr th {\n",
       "        vertical-align: top;\n",
       "    }\n",
       "\n",
       "    .dataframe thead th {\n",
       "        text-align: right;\n",
       "    }\n",
       "</style>\n",
       "<table border=\"1\" class=\"dataframe\">\n",
       "  <thead>\n",
       "    <tr style=\"text-align: right;\">\n",
       "      <th></th>\n",
       "      <th>race_asian</th>\n",
       "      <th>race_black</th>\n",
       "      <th>race_hispanic</th>\n",
       "      <th>race_island</th>\n",
       "      <th>race_na</th>\n",
       "      <th>race_native</th>\n",
       "    </tr>\n",
       "  </thead>\n",
       "  <tbody>\n",
       "    <tr>\n",
       "      <th>42</th>\n",
       "      <td>0</td>\n",
       "      <td>0</td>\n",
       "      <td>0</td>\n",
       "      <td>0</td>\n",
       "      <td>0</td>\n",
       "      <td>0</td>\n",
       "    </tr>\n",
       "    <tr>\n",
       "      <th>43</th>\n",
       "      <td>0</td>\n",
       "      <td>0</td>\n",
       "      <td>0</td>\n",
       "      <td>0</td>\n",
       "      <td>1</td>\n",
       "      <td>0</td>\n",
       "    </tr>\n",
       "    <tr>\n",
       "      <th>46</th>\n",
       "      <td>0</td>\n",
       "      <td>0</td>\n",
       "      <td>0</td>\n",
       "      <td>0</td>\n",
       "      <td>0</td>\n",
       "      <td>0</td>\n",
       "    </tr>\n",
       "    <tr>\n",
       "      <th>48</th>\n",
       "      <td>1</td>\n",
       "      <td>0</td>\n",
       "      <td>0</td>\n",
       "      <td>0</td>\n",
       "      <td>0</td>\n",
       "      <td>0</td>\n",
       "    </tr>\n",
       "    <tr>\n",
       "      <th>51</th>\n",
       "      <td>1</td>\n",
       "      <td>0</td>\n",
       "      <td>0</td>\n",
       "      <td>0</td>\n",
       "      <td>0</td>\n",
       "      <td>0</td>\n",
       "    </tr>\n",
       "  </tbody>\n",
       "</table>\n",
       "</div>"
      ],
      "text/plain": [
       "    race_asian  race_black  race_hispanic  race_island  race_na  race_native\n",
       "42           0           0              0            0        0            0\n",
       "43           0           0              0            0        1            0\n",
       "46           0           0              0            0        0            0\n",
       "48           1           0              0            0        0            0\n",
       "51           1           0              0            0        0            0"
      ]
     },
     "execution_count": 30,
     "metadata": {},
     "output_type": "execute_result"
    }
   ],
   "source": [
    "pd.get_dummies(df1.applicant_race, prefix='race').drop('race_white', axis=1).head()"
   ]
  },
  {
   "cell_type": "markdown",
   "metadata": {},
   "source": [
    "> We usually use `.drop(columns=...)` to drop columns, but I'm using `axis=1` here because you should be familiar with it\n",
    "\n",
    "### Make a one-hot encoded `sex` category with `female` as the reference category\n",
    "\n",
    "You should end up with two columns: `sex_male` and `sex_na`."
   ]
  },
  {
   "cell_type": "code",
   "execution_count": 31,
   "metadata": {},
   "outputs": [
    {
     "data": {
      "text/html": [
       "<div>\n",
       "<style scoped>\n",
       "    .dataframe tbody tr th:only-of-type {\n",
       "        vertical-align: middle;\n",
       "    }\n",
       "\n",
       "    .dataframe tbody tr th {\n",
       "        vertical-align: top;\n",
       "    }\n",
       "\n",
       "    .dataframe thead th {\n",
       "        text-align: right;\n",
       "    }\n",
       "</style>\n",
       "<table border=\"1\" class=\"dataframe\">\n",
       "  <thead>\n",
       "    <tr style=\"text-align: right;\">\n",
       "      <th></th>\n",
       "      <th>sex_female</th>\n",
       "      <th>sex_male</th>\n",
       "      <th>sex_na</th>\n",
       "    </tr>\n",
       "  </thead>\n",
       "  <tbody>\n",
       "    <tr>\n",
       "      <th>42</th>\n",
       "      <td>1</td>\n",
       "      <td>0</td>\n",
       "      <td>0</td>\n",
       "    </tr>\n",
       "    <tr>\n",
       "      <th>43</th>\n",
       "      <td>0</td>\n",
       "      <td>0</td>\n",
       "      <td>1</td>\n",
       "    </tr>\n",
       "    <tr>\n",
       "      <th>46</th>\n",
       "      <td>0</td>\n",
       "      <td>1</td>\n",
       "      <td>0</td>\n",
       "    </tr>\n",
       "    <tr>\n",
       "      <th>48</th>\n",
       "      <td>1</td>\n",
       "      <td>0</td>\n",
       "      <td>0</td>\n",
       "    </tr>\n",
       "    <tr>\n",
       "      <th>51</th>\n",
       "      <td>1</td>\n",
       "      <td>0</td>\n",
       "      <td>0</td>\n",
       "    </tr>\n",
       "  </tbody>\n",
       "</table>\n",
       "</div>"
      ],
      "text/plain": [
       "    sex_female  sex_male  sex_na\n",
       "42           1         0       0\n",
       "43           0         0       1\n",
       "46           0         1       0\n",
       "48           1         0       0\n",
       "51           1         0       0"
      ]
     },
     "execution_count": 31,
     "metadata": {},
     "output_type": "execute_result"
    }
   ],
   "source": [
    "pd.get_dummies(df1.applicant_sex, prefix='sex').head()"
   ]
  },
  {
   "cell_type": "code",
   "execution_count": 32,
   "metadata": {},
   "outputs": [
    {
     "data": {
      "text/html": [
       "<div>\n",
       "<style scoped>\n",
       "    .dataframe tbody tr th:only-of-type {\n",
       "        vertical-align: middle;\n",
       "    }\n",
       "\n",
       "    .dataframe tbody tr th {\n",
       "        vertical-align: top;\n",
       "    }\n",
       "\n",
       "    .dataframe thead th {\n",
       "        text-align: right;\n",
       "    }\n",
       "</style>\n",
       "<table border=\"1\" class=\"dataframe\">\n",
       "  <thead>\n",
       "    <tr style=\"text-align: right;\">\n",
       "      <th></th>\n",
       "      <th>sex_male</th>\n",
       "      <th>sex_na</th>\n",
       "    </tr>\n",
       "  </thead>\n",
       "  <tbody>\n",
       "    <tr>\n",
       "      <th>42</th>\n",
       "      <td>0</td>\n",
       "      <td>0</td>\n",
       "    </tr>\n",
       "    <tr>\n",
       "      <th>43</th>\n",
       "      <td>0</td>\n",
       "      <td>1</td>\n",
       "    </tr>\n",
       "    <tr>\n",
       "      <th>46</th>\n",
       "      <td>1</td>\n",
       "      <td>0</td>\n",
       "    </tr>\n",
       "    <tr>\n",
       "      <th>48</th>\n",
       "      <td>0</td>\n",
       "      <td>0</td>\n",
       "    </tr>\n",
       "    <tr>\n",
       "      <th>51</th>\n",
       "      <td>0</td>\n",
       "      <td>0</td>\n",
       "    </tr>\n",
       "  </tbody>\n",
       "</table>\n",
       "</div>"
      ],
      "text/plain": [
       "    sex_male  sex_na\n",
       "42         0       0\n",
       "43         0       1\n",
       "46         1       0\n",
       "48         0       0\n",
       "51         0       0"
      ]
     },
     "execution_count": 32,
     "metadata": {},
     "output_type": "execute_result"
    }
   ],
   "source": [
    "pd.get_dummies(df1.applicant_sex, prefix='sex').drop('sex_female', axis=1).head()"
   ]
  },
  {
   "cell_type": "markdown",
   "metadata": {},
   "source": [
    "## Using one-hot encoded columns\n",
    "\n",
    "Since these one-hot encoded variables are standalone dataframes, we eventually need to combine them into our original dataframe.\n",
    "\n",
    "We have four categorical variables - sex, race, co-applicant, and the loan agency - so we need you to **make four one-hot encoded variables**. Name them like this:\n",
    "\n",
    "* `dummies_sex` - reference category of white\n",
    "* `dummies_race` - reference category of female\n",
    "* `dummies_co_applicant` - reference category of no\n",
    "* `dummies_agency` - reference category of FDIC\n",
    "\n",
    "Typically your reference category is the most common category, because it makes for the most interesting comparisons.\n",
    "\n",
    "> **Tip:** if you're cutting and pasting from above, watch out for `.head()`\n",
    ">\n",
    "> **Tip:** After you've made them, use `.head(2)` to check the first couple rows of each to make sure they look okay"
   ]
  },
  {
   "cell_type": "code",
   "execution_count": null,
   "metadata": {},
   "outputs": [],
   "source": []
  },
  {
   "cell_type": "code",
   "execution_count": null,
   "metadata": {},
   "outputs": [],
   "source": []
  },
  {
   "cell_type": "code",
   "execution_count": null,
   "metadata": {},
   "outputs": [],
   "source": []
  },
  {
   "cell_type": "code",
   "execution_count": null,
   "metadata": {},
   "outputs": [],
   "source": []
  },
  {
   "cell_type": "markdown",
   "metadata": {},
   "source": [
    "## Cleaning up our old dataframe\n",
    "\n",
    "Take a look at your original dataframe real quick."
   ]
  },
  {
   "cell_type": "code",
   "execution_count": null,
   "metadata": {},
   "outputs": [],
   "source": []
  },
  {
   "cell_type": "markdown",
   "metadata": {},
   "source": [
    "We don't need all of those columns! If we look at the list of columns we'll be using for the regression:\n",
    "\n",
    "* Race/Ethnicity\n",
    "* Sex\n",
    "* Whether there was a co-applicant\n",
    "* Applicant’s annual income (includes co-applicant income)\n",
    "* Loan amount\n",
    "* Ratio between the loan amount and the applicant’s income\n",
    "* Ratio between the median income of the census tract and the median income of the metro area\n",
    "* Racial and ethnic breakdown by percentage for each census tract\n",
    "* Regulating agency of the lending institution\n",
    "\n",
    "We can keep anything in that list, and remove everything else. For example, we can drop the variables we used to create the dummy variables, as we'll be adding the one-hot encoded versions in for the next step.\n",
    "\n",
    "For \"Racial and ethnic breakdown by percentage for each census tract\" we'll need to join with some census data later, so we need to also keep census tract, county code and state code.\n",
    "\n",
    "**Build a new dataframe with only the columns we're interested in, call it `numeric`.** We're calling it `numeric` because it's mostly numeric columns after the categorical ones have been removed.\n",
    "\n",
    "> **Tip:** You can either use `.drop(columns=` to remove unwanted columns or `df = df[['col1', 'col2', ... 'col12']]` to only select the ones you're interseted in"
   ]
  },
  {
   "cell_type": "code",
   "execution_count": null,
   "metadata": {},
   "outputs": [],
   "source": []
  },
  {
   "cell_type": "markdown",
   "metadata": {},
   "source": [
    "Confirm that `numeric` has 8 columns."
   ]
  },
  {
   "cell_type": "code",
   "execution_count": null,
   "metadata": {},
   "outputs": [],
   "source": []
  },
  {
   "cell_type": "markdown",
   "metadata": {},
   "source": [
    "### Combining our features\n",
    "\n",
    "We now have 1 dataframe of numeric features (and some merge columns), and 4 one-hot-encoded variables (each with their own dataframe). Combine all five dataframes into one large dataframe called `loan_features`."
   ]
  },
  {
   "cell_type": "code",
   "execution_count": null,
   "metadata": {},
   "outputs": [],
   "source": []
  },
  {
   "cell_type": "markdown",
   "metadata": {},
   "source": [
    "Confirm that `loan_features` has 10,107 rows and 23 columns."
   ]
  },
  {
   "cell_type": "code",
   "execution_count": null,
   "metadata": {},
   "outputs": [],
   "source": []
  },
  {
   "cell_type": "markdown",
   "metadata": {},
   "source": [
    "# Census data\n",
    "\n",
    "Now we just need the final piece to the puzzle, the census data. Read in the census data file, calling the dataframe `census`.\n",
    "\n",
    "> **Tip:** As always, be sure to read the tract column in as a string. Interestingly, this time we _don't_ need to worry about the state or county codes in the same way.\n",
    ">\n",
    "> **Tip:** You're going to encounter a problem that you find every time you read in a file from the US government!"
   ]
  },
  {
   "cell_type": "code",
   "execution_count": null,
   "metadata": {},
   "outputs": [],
   "source": []
  },
  {
   "cell_type": "markdown",
   "metadata": {},
   "source": [
    "## Rename some columns\n",
    "\n",
    "If you like to keep your data extra clean, feel free to rename the columns you're interested in. If not, feel free to skip it!\n",
    "\n",
    "> **Tip:** Make sure you're using the estimates columns, not the margin of error columns"
   ]
  },
  {
   "cell_type": "code",
   "execution_count": null,
   "metadata": {},
   "outputs": [],
   "source": []
  },
  {
   "cell_type": "markdown",
   "metadata": {},
   "source": [
    "## Computed columns\n",
    "\n",
    "According to Reveal's regression output, you'll want to create the following columns:\n",
    "\n",
    "* Percent Black in tract\n",
    "* Percent Hispanic/Latino in tract (I hope you know how Hispanic/Latino + census data works by now)\n",
    "* Percent Asian in tract\n",
    "* Percent Native American in tract\n",
    "* Percent Native Hawaiian in tract\n",
    "\n",
    "Notice that we don't include percent white - **because all of the other columns add up to percent white, we ignore it!** It's similar to a reference category.\n",
    "\n",
    "> If we want to use buzzwords here, the technical reason we're not using percent white is called **collinearity.** We'll talk more about it on Friday."
   ]
  },
  {
   "cell_type": "code",
   "execution_count": null,
   "metadata": {},
   "outputs": [],
   "source": []
  },
  {
   "cell_type": "markdown",
   "metadata": {},
   "source": [
    "## Only keep what we need to join and process\n",
    "\n",
    "We're only interested in the percentage columns that we computed. Create a new dataframe called `census_features` that is only those columns along with the one we'll need for joining with the mortgage data.\n",
    "\n",
    "> * **Tip:** Remember we saved state, county and tract codes when working on the loan data"
   ]
  },
  {
   "cell_type": "code",
   "execution_count": null,
   "metadata": {},
   "outputs": [],
   "source": []
  },
  {
   "cell_type": "markdown",
   "metadata": {},
   "source": [
    "Confirm that your first few rows look something like this:\n",
    "    \n",
    "|STATEA|COUNTYA|TRACTA|pct_hispanic|pct_black|pct_amer_indian|pct_asian|pct_pac_islander|\n",
    "|---|---|---|---|---|---|---|---|\n",
    "|1|1|020100|0.872690|7.700205|0.308008|0.616016|0.000000|\n",
    "|1|1|020200|0.788497|53.293135|0.000000|2.319109|0.000000|\n",
    "|1|1|020300|0.000000|18.564690|0.505391|1.381402|0.269542|\n",
    "|1|1|020400|10.490617|3.662672|1.560027|0.000000|0.000000|\n",
    "|1|1|020500|0.743287|24.844374|0.000000|3.827929|0.000000|\n",
    "\n",
    "Your column headers might be different but your numbers should match."
   ]
  },
  {
   "cell_type": "markdown",
   "metadata": {},
   "source": [
    "# Merge datasets\n",
    "\n",
    "Merge `loan_features` and `census_features` into a new dataframe called `merged`.\n",
    "\n",
    "Unfortunately something is a little different between our `loan_features` and `census_features` census tract columns. You'll need to fix it before you can merge.\n",
    "\n",
    "## Cleaning"
   ]
  },
  {
   "cell_type": "code",
   "execution_count": null,
   "metadata": {},
   "outputs": [],
   "source": []
  },
  {
   "cell_type": "code",
   "execution_count": null,
   "metadata": {},
   "outputs": [],
   "source": []
  },
  {
   "cell_type": "code",
   "execution_count": null,
   "metadata": {},
   "outputs": [],
   "source": []
  },
  {
   "cell_type": "markdown",
   "metadata": {},
   "source": [
    "## Do the merge"
   ]
  },
  {
   "cell_type": "code",
   "execution_count": null,
   "metadata": {
    "scrolled": true
   },
   "outputs": [],
   "source": []
  },
  {
   "cell_type": "markdown",
   "metadata": {},
   "source": [
    "Confirm you have 10107 rows and 31 columns in the merged dataframe."
   ]
  },
  {
   "cell_type": "code",
   "execution_count": null,
   "metadata": {},
   "outputs": [],
   "source": []
  },
  {
   "cell_type": "markdown",
   "metadata": {},
   "source": [
    "# Our final dataframe\n",
    "\n",
    "Drop all of the columns we merged on and save it as `train_df`."
   ]
  },
  {
   "cell_type": "code",
   "execution_count": null,
   "metadata": {},
   "outputs": [],
   "source": []
  },
  {
   "cell_type": "markdown",
   "metadata": {},
   "source": [
    "Confirm that `train_df` has 10107 rows and 25 columns."
   ]
  },
  {
   "cell_type": "code",
   "execution_count": null,
   "metadata": {},
   "outputs": [],
   "source": []
  },
  {
   "cell_type": "markdown",
   "metadata": {},
   "source": [
    "## Final cleanup\n",
    "\n",
    "Because we can't have missing data before we run a regression, check the size of `train_df`, then drop any missing data and check the size again. **Confirm you don't lose any rows.**"
   ]
  },
  {
   "cell_type": "code",
   "execution_count": null,
   "metadata": {},
   "outputs": [],
   "source": []
  },
  {
   "cell_type": "code",
   "execution_count": null,
   "metadata": {},
   "outputs": [],
   "source": []
  },
  {
   "cell_type": "markdown",
   "metadata": {},
   "source": [
    "# Performing our regression\n",
    "\n",
    "## Try with statsmodels\n",
    "\n",
    "First try to run a linear regression with statsmodels, because even though sometimes it complains and breaks, the output just looks *so nice*. Instead of `sm.OLS` we'll use `sm.Logit`."
   ]
  },
  {
   "cell_type": "code",
   "execution_count": null,
   "metadata": {},
   "outputs": [],
   "source": []
  },
  {
   "cell_type": "markdown",
   "metadata": {},
   "source": [
    "## Try again with sci-kit learn\n",
    "\n",
    "But I'll be honest, I like sklearn a *lot lot lot* better. Using the coefficient to build a dataframe just seems so *nice*.\n",
    "\n",
    "> **Tip:** When you build your model, use `LogisticRegression(C=1e9, solver='lbfgs', max_iter=4000)` - for if you don't increase `max_iter` (how long/hard it works) it'll complain it can't find an answer."
   ]
  },
  {
   "cell_type": "code",
   "execution_count": null,
   "metadata": {},
   "outputs": [],
   "source": []
  },
  {
   "cell_type": "markdown",
   "metadata": {},
   "source": [
    "### Getting your coefficients and odds ratios\n",
    "\n",
    "After you run your regression **using sklearn**, you can use code like the below to print out an ordered list of features, coefficients, and odds ratios.\n",
    "\n",
    "```python\n",
    "feature_names = X.columns\n",
    "coefficients = clf.coef_[0]\n",
    "\n",
    "pd.DataFrame({\n",
    "    'feature': feature_names,\n",
    "    'coefficient (log odds ratio)': coefficients,\n",
    "    'odds ratio': np.exp(coefficients)\n",
    "}).sort_values(by='odds ratio', ascending=False)\n",
    "```"
   ]
  },
  {
   "cell_type": "code",
   "execution_count": null,
   "metadata": {
    "scrolled": true
   },
   "outputs": [],
   "source": []
  },
  {
   "cell_type": "markdown",
   "metadata": {},
   "source": [
    "### Wait, what's the odds ratio again?\n",
    "\n",
    "It's how much that variable affects the outcome **if all other variables stay the same.**"
   ]
  },
  {
   "cell_type": "markdown",
   "metadata": {},
   "source": [
    "# Interpreting and thinking about the analysis\n",
    "\n",
    "### Question 1\n",
    "\n",
    "Our results aren't exactly the same as Reveal's, as I pulled a slightly different number of rows from the database and I'm not sure what exact dataset they used for census information. How are we feeling about this reproduction? **You might want check their 2015 results in the whitepaper.**"
   ]
  },
  {
   "cell_type": "code",
   "execution_count": null,
   "metadata": {},
   "outputs": [],
   "source": []
  },
  {
   "cell_type": "markdown",
   "metadata": {},
   "source": [
    "### Question 2\n",
    "\n",
    "In the opening paragraph to the flagship piece, [Aaron and Emmanuel write](https://www.revealnews.org/article/for-people-of-color-banks-are-shutting-the-door-to-homeownership/):\n",
    "\n",
    "> Fifty years after the federal Fair Housing Act banned racial discrimination in lending, African Americans and Latinos continue to be routinely denied conventional mortgage loans at rates far higher than their white counterparts.\n",
    "\n",
    "If you look at the results, Hawaiians/Pacific Islanders (and maybe Native Americans) have an even higher odds ratio. **Why do they choose to talk about African Americans and Latinos instead?**"
   ]
  },
  {
   "cell_type": "code",
   "execution_count": null,
   "metadata": {},
   "outputs": [],
   "source": []
  },
  {
   "cell_type": "markdown",
   "metadata": {},
   "source": [
    "### Question 3\n",
    "\n",
    "Write a sentence expressing the meaning of the **odds ratio** statistic for Black mortgage applicants. Find a line in [the Reveal piece](https://www.revealnews.org/article/for-people-of-color-banks-are-shutting-the-door-to-homeownership/) where they use the odds ratio."
   ]
  },
  {
   "cell_type": "code",
   "execution_count": null,
   "metadata": {},
   "outputs": [],
   "source": []
  },
  {
   "cell_type": "markdown",
   "metadata": {},
   "source": [
    "### Question 4\n",
    "\n",
    "Write a similar sentence about men."
   ]
  },
  {
   "cell_type": "code",
   "execution_count": null,
   "metadata": {},
   "outputs": [],
   "source": []
  },
  {
   "cell_type": "markdown",
   "metadata": {},
   "source": [
    "### Question 5\n",
    "\n",
    "Why did Aaron and Emmanuel choose to include the loan-to-income ratio statistic? **You might want to read the whitepaper.**"
   ]
  },
  {
   "cell_type": "code",
   "execution_count": null,
   "metadata": {},
   "outputs": [],
   "source": []
  },
  {
   "cell_type": "markdown",
   "metadata": {},
   "source": [
    "### Question 6\n",
    "\n",
    "Credit score is a common reason why loans are denied. Why are credit scores not included in our analysis? **You might want to read the whitepaper.**"
   ]
  },
  {
   "cell_type": "code",
   "execution_count": null,
   "metadata": {},
   "outputs": [],
   "source": []
  },
  {
   "cell_type": "markdown",
   "metadata": {},
   "source": [
    "### Question 7\n",
    "\n",
    "This data was just sitting out there for anyone to look at, they didn't even need to FOIA it. Why do you think this issue had not come up before Reveal's analysis?"
   ]
  },
  {
   "cell_type": "code",
   "execution_count": null,
   "metadata": {},
   "outputs": [],
   "source": []
  },
  {
   "cell_type": "markdown",
   "metadata": {},
   "source": [
    "### Question 8\n",
    "\n",
    "As a result of this series, [a lot has happened](https://www.revealnews.org/blog/we-exposed-modern-day-redlining-in-61-cities-find-out-whats-happened-since/), although [recent changes don't look so good](https://www.revealnews.org/blog/cfpb-moves-to-limit-home-loan-data/). If you were reporting this story, what groups of people would you want to talk to in order to make sure you're getting the story right?"
   ]
  },
  {
   "cell_type": "code",
   "execution_count": null,
   "metadata": {},
   "outputs": [],
   "source": []
  },
  {
   "cell_type": "markdown",
   "metadata": {},
   "source": [
    "### Question 9\n",
    "\n",
    "When they were consulting experts, Aaron and Emmanuel received a lot of conflicting accounts about whether they should include the \"N/A\" values for race (they ended up including it). If the experts disagreed about something like that, why do you think they went forward with their analysis?"
   ]
  },
  {
   "cell_type": "code",
   "execution_count": null,
   "metadata": {},
   "outputs": [],
   "source": []
  },
  {
   "cell_type": "markdown",
   "metadata": {},
   "source": [
    "### Question 10\n",
    "\n",
    "What if we were working on this story, and our logistic regression or input dataset were flawed? What would be the repercussions?"
   ]
  },
  {
   "cell_type": "code",
   "execution_count": null,
   "metadata": {},
   "outputs": [],
   "source": []
  }
 ],
 "metadata": {
  "kernelspec": {
   "display_name": "Python 3",
   "language": "python",
   "name": "python3"
  },
  "language_info": {
   "codemirror_mode": {
    "name": "ipython",
    "version": 3
   },
   "file_extension": ".py",
   "mimetype": "text/x-python",
   "name": "python",
   "nbconvert_exporter": "python",
   "pygments_lexer": "ipython3",
   "version": "3.7.3"
  }
 },
 "nbformat": 4,
 "nbformat_minor": 2
}
