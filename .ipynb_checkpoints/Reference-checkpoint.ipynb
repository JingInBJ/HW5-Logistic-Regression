{
 "cells": [
  {
   "cell_type": "markdown",
   "metadata": {},
   "source": [
    "# Lending disparities using Logistic Regression\n",
    "\n",
    "**The story:** https://www.revealnews.org/article/for-people-of-color-banks-are-shutting-the-door-to-homeownership/\n",
    "\n",
    "**Author:** Aaron Glantz and Emmanuel Martinez\n",
    "\n",
    "**Topics:** Logistic regression, odds ratios\n",
    "\n",
    "**Datasets**\n",
    "\n",
    "* **philadelphia-mortgages.csv:** Philadelphia mortgage data for 2015\n",
    "    - A subset of HMDA LAR data from [FFEIC](https://www.ffiec.gov/hmda/hmdaproducts.htm)\n",
    "    - Codebook is `2015HMDACodeSheet.pdf`\n",
    "    - A [guide to HMDA reporting](https://www.ffiec.gov/hmda/guide.htm)\n",
    "    - I've massaged it slightly to make processing a bit easier\n",
    "* **nhgis0006_ds233_20175_2017_tract.csv:**\n",
    "    - Table B03002: Hispanic or Latino Origin by Race\n",
    "    - 2013-2017 American Community Survey data US Census Bureau, from [NHGIS](https://data2.nhgis.org/main)\n",
    "    - Codebook is `nhgis0006_ds233_20175_2017_tract_codebook.txt`\n",
    "* **lending_disparities_whitepaper_180214.pdf:** the whitepaper outlining Reveal's methodology\n",
    "\n",
    "## What's the goal?\n",
    "\n",
    "Do banks provide mortgages at disparate rates between white applicants and people of color? We're going to look at the following variables to find out:\n",
    "\n",
    "* Race/Ethnicity\n",
    "    - Native American\n",
    "    - Asian\n",
    "    - Black\n",
    "    - Native Hawaiian\n",
    "    - Hispanic/Latino\n",
    "    - Race and ethnicity were not reported\n",
    "* Sex\n",
    "* Whether there was a co-applicant\n",
    "* Applicant’s annual income (includes co-applicant income)\n",
    "* Loan amount\n",
    "* Ratio between the loan amount and the applicant’s income\n",
    "* Ratio between the median income of the census tract and the median income of the metro area\n",
    "* Racial and ethnic breakdown by percentage for each census tract\n",
    "* Regulating agency of the lending institution"
   ]
  },
  {
   "cell_type": "markdown",
   "metadata": {},
   "source": [
    "# Setup\n",
    "\n",
    "Import pandas as usual, but also import numpy. We'll need it for logarithms and exponents.\n",
    "\n",
    "Some of our datasets have a lot of columns, so you'll also want to use `pd.set_option` to display up to 100 columns or so."
   ]
  },
  {
   "cell_type": "code",
   "execution_count": 1,
   "metadata": {},
   "outputs": [],
   "source": [
    "import pandas as pd\n",
    "import numpy as np\n",
    "import statsmodels.api as sm\n",
    "\n",
    "\n",
    "from sklearn.linear_model import LogisticRegression\n",
    "from statsmodels.sandbox.regression.predstd import wls_prediction_std\n",
    "\n",
    "from sklearn.model_selection import train_test_split\n",
    "from sklearn.metrics import confusion_matrix\n",
    "\n",
    "\n",
    "pd.set_option(\"display.max_columns\", 100)\n",
    "pd.set_option(\"display.max_colwidth\", 100)"
   ]
  },
  {
   "cell_type": "markdown",
   "metadata": {},
   "source": [
    "# What is each row of our data?\n",
    "\n",
    "If you aren't sure, you might need to look at either the whitepaper or the codebook. You'll need to look at them both eventually, so might as well get started now."
   ]
  },
  {
   "cell_type": "code",
   "execution_count": null,
   "metadata": {},
   "outputs": [],
   "source": []
  },
  {
   "cell_type": "markdown",
   "metadata": {},
   "source": [
    "# Read in your data\n",
    "\n",
    "Read in our Philadelphia mortgage data and take a peek at the first few rows.\n",
    "\n",
    "* **Tip:** As always, census tract columns like to cause problems if they're read in as numbers. Make sure pandas reads it in as a string."
   ]
  },
  {
   "cell_type": "code",
   "execution_count": 2,
   "metadata": {},
   "outputs": [],
   "source": [
    "df = pd.read_csv('philadelphia-mortgages.csv', \n",
    "            dtype = {'census_tract': str, \n",
    "                     'county_code': str, \n",
    "                     'state_code': str})"
   ]
  },
  {
   "cell_type": "markdown",
   "metadata": {},
   "source": [
    "### Check your column types\n",
    "\n",
    "I mentioned it above, but make sure `census_tract` is an object (a string) or merging isn't going to be any fun later on."
   ]
  },
  {
   "cell_type": "code",
   "execution_count": 3,
   "metadata": {
    "scrolled": false
   },
   "outputs": [
    {
     "data": {
      "text/plain": [
       "census_tract                    object\n",
       "county_code                     object\n",
       "state_code                      object\n",
       "applicant_sex                    int64\n",
       "income                           int64\n",
       "loan_amount                      int64\n",
       "loan_type                        int64\n",
       "property_type                    int64\n",
       "occupancy                        int64\n",
       "action_type                      int64\n",
       "loan_purpose                     int64\n",
       "agency_code                      int64\n",
       "tract_to_msa_income_percent    float64\n",
       "applicant_race                   int64\n",
       "co_applicant_sex                 int64\n",
       "dtype: object"
      ]
     },
     "execution_count": 3,
     "metadata": {},
     "output_type": "execute_result"
    }
   ],
   "source": [
    "df.dtypes"
   ]
  },
  {
   "cell_type": "markdown",
   "metadata": {},
   "source": [
    "# Engineering and cleaning up features\n",
    "\n",
    "## Income-related columns\n",
    "\n",
    "> When we plotted the number of applicants, how much money they made and the size of the loan, we found that it skewed to the left, meaning the majority of applicants were clustered on the lower end of the income and loan amount scales. This was especially true for applicants of color. **We took the logarithm transformation of income and loan amount to normalize the distribution of those variables and limit the effect of extreme outliers.**\n",
    "\n",
    "A few of the columns you'll need to calculate yourselves. **Calculate these values and assign them to three new columns.**\n",
    "\n",
    "* Applicant’s adjusted annual income (includes co-applicant income)\n",
    "* Adjusted loan amount\n",
    "* Ratio between the loan amount and the applicant’s income\n",
    "\n",
    "Instead of using the raw income and loan amount, you'll want the log of both income and loan amount. Call these new columns `log_income` and `log_loan_amount`. The third column will be `loan_income_ratio`.\n",
    "\n",
    "* **Tip:** `np.log` gives you the logarithm"
   ]
  },
  {
   "cell_type": "code",
   "execution_count": 4,
   "metadata": {},
   "outputs": [],
   "source": [
    "df['log_income'] = np.log(df.income)\n",
    "df['log_loan_amount'] = np.log(df.loan_amount)"
   ]
  },
  {
   "cell_type": "code",
   "execution_count": 5,
   "metadata": {},
   "outputs": [],
   "source": [
    "df['loan_income_ratio'] = df.log_income/df.log_loan_amount"
   ]
  },
  {
   "cell_type": "markdown",
   "metadata": {},
   "source": [
    "### Co-applicants\n",
    "\n",
    "Right now we have a column about the co-applicant's sex (see the codebook for column details). We don't want the sex, though, we're interested in whether there is a co applicant or not. Use the co-applicant's sex to **create a new column called `co_applicant` that is either 'yes', 'no', or 'unknown'.**\n",
    "\n",
    "* **Hint:** If the co-applicant's sex was not provided or is not applicable, count it as unknown.\n",
    "* **Hint:** The easiest way is to use `.replace` on the co-applicant sex column, but store the result in your new column"
   ]
  },
  {
   "cell_type": "code",
   "execution_count": 6,
   "metadata": {},
   "outputs": [],
   "source": [
    "df['co_applicant'] = df.co_applicant_sex.replace([1, 2], 'yes').replace(5, 'no').replace([3,4], 'unknown')"
   ]
  },
  {
   "cell_type": "markdown",
   "metadata": {},
   "source": [
    "# Filter loan applicants\n",
    "\n",
    "If you read the whitepaper - `lending_disparities_whitepaper_180214.pdf` - many filters are used to get to the target dataset for analysis.\n",
    "\n",
    "> **Loan type**\n",
    ">\n",
    "> While we recognize the substantial presence of applicants of color in the FHA market, we focused on conventional home loans for several reasons.\n",
    "\n",
    "> **Property type**\n",
    ">\n",
    "> Prospective borrowers submit loan applications for various types of structures: one- to four-unit properties, multifamily properties and manufactured homes. For this analysis, we focused on one- to four-unit properties.\n",
    "\n",
    "> **Occupancy**\n",
    ">\n",
    "> We included only borrowers who said they planned to live in the house they were looking to buy. We did this to exclude developers or individuals who were buying property as an investment or to subsequently flip it.\n",
    "\n",
    "> **Action Type**\n",
    ">\n",
    "> We wanted to look at the reasons lending institutions deny people a mortgage. After conversations with former officials at HUD, we decided to include only those applications that resulted in originations (action type 1) or denials (action type 3)\n",
    "\n",
    "> **Income**\n",
    ">\n",
    "> An applicant’s income isn’t always reported in the data. In other cases, the data cuts off any incomes over \\\\$9.9 million and any loan amounts over \\\\$99.9 million, meaning there’s a value in the database, but it’s not precise. We focused only on those records where income and loan amount have an accurate estimation. This meant discarding about 1 percent of all conventional home loans in the country for 2016. [Note: I already edited this]\n",
    ">\n",
    "> When we plotted the number of applicants, how much money they made and the size of the loan, we found that it skewed to the left, meaning the majority of applicants were clustered on the lower end of the income and loan amount scales. This was especially true for applicants of color. We took the logarithm transformation of income and loan amount to normalize the distribution of those variables and limit the effect of extreme outliers.\n",
    "\n",
    "> **Lien status**\n",
    ">\n",
    "> We included all cases in our analysis regardless of lien status.\n",
    "\n",
    "> **Race and ethnicity**\n",
    ">\n",
    "> At first, we looked at race separate from ethnicity, but that approach introduced too many instances in which​ ​either the ethnicity or race was unknown. So we decided to combine race and ethnicity. Applicants who marked their ethnicity as Hispanic were grouped together as Hispanic/Latino regardless of race. Non-Hispanic applicants, as well as those who didn’t provide an ethnicity, were grouped together by race: non-Hispanic white, non-Hispanic black, etc. **[Note: This has already been taken care of]**\n",
    "\n",
    "> **Loan purpose**\n",
    ">\n",
    "> We decided to look at home purchase, home improvement and refinance loans separately from each other. [Note: please look at **home purchase** loans.]\n",
    "\n",
    "Use the text above (it's from the whitepaper) and the **2015HMDACodeSheet.pdf** code book to filter the dataset.\n",
    "\n",
    "* **Tip:** there should be between 5-8 filters, depending on how you write them."
   ]
  },
  {
   "cell_type": "code",
   "execution_count": 7,
   "metadata": {},
   "outputs": [],
   "source": [
    "df = df[(df.loan_type == 1) & \n",
    "   (df.property_type == 1) & \n",
    "   (df.occupancy == 1) & \n",
    "   ((df.action_type == 1) | (df.action_type == 3)) &\n",
    "   (df.loan_purpose == 1)].copy()"
   ]
  },
  {
   "cell_type": "markdown",
   "metadata": {},
   "source": [
    "When you're done filtering, save your dataframe as a \"copy\" with `df = df.copy()` (if it's called `df`, of course). This will prevent irritating warnings when you're trying to create new columns.\n",
    "\n",
    "### Confirm that you have 10,107 loans with 19 columns"
   ]
  },
  {
   "cell_type": "code",
   "execution_count": 8,
   "metadata": {},
   "outputs": [
    {
     "data": {
      "text/plain": [
       "(10107, 19)"
      ]
     },
     "execution_count": 8,
     "metadata": {},
     "output_type": "execute_result"
    }
   ],
   "source": [
    "df.shape"
   ]
  },
  {
   "cell_type": "markdown",
   "metadata": {},
   "source": [
    "### Create a \"loan denied\" column\n",
    "\n",
    "Right now the `action_type` category reflects whether the loan was granted or not, and either has a value of `1` or `3`.\n",
    "\n",
    "Create a new column called `loan_denied`, where the value is `0` if the loan was accepted and `1` if the loan was denied. **This will be our target for the machine learning algorithm.**\n",
    "\n",
    "* **Tip:** You should have 8,878 successful loans and 1,229 denied loans"
   ]
  },
  {
   "cell_type": "code",
   "execution_count": 9,
   "metadata": {},
   "outputs": [],
   "source": [
    "df['loan_denied'] = df.action_type.replace(3, 0)"
   ]
  },
  {
   "cell_type": "code",
   "execution_count": 10,
   "metadata": {},
   "outputs": [
    {
     "data": {
      "text/plain": [
       "1    8878\n",
       "0    1229\n",
       "Name: loan_denied, dtype: int64"
      ]
     },
     "execution_count": 10,
     "metadata": {},
     "output_type": "execute_result"
    }
   ],
   "source": [
    "df.loan_denied.value_counts()"
   ]
  },
  {
   "cell_type": "markdown",
   "metadata": {},
   "source": [
    "# Deal with categorical variables\n",
    "\n",
    "Let's go ahead and take a look at our categorical variables:\n",
    "\n",
    "* Applicant sex (male, female, na)\n",
    "* Applicant race\n",
    "* Mortgage agency\n",
    "* Co-applicant (yes, no, unknown)\n",
    "\n",
    "Before we do anything crazy, let's use the codebook to turn them into strings.\n",
    "\n",
    "* **Tip:** We already did this with the `co_applicant` column, you only need to do the rest\n",
    "* **Tip:** Just use `.replace`"
   ]
  },
  {
   "cell_type": "code",
   "execution_count": 11,
   "metadata": {},
   "outputs": [],
   "source": [
    "df['applicant_sex'] = df.applicant_sex.replace(1, 'male').replace(2, 'female').replace([3, 5], 'na')"
   ]
  },
  {
   "cell_type": "code",
   "execution_count": 12,
   "metadata": {},
   "outputs": [],
   "source": [
    "df['applicant_race'] = df.applicant_race.replace(5, 'white').replace(1, 'native american').\\\n",
    "    replace(2, 'asian').replace(3, 'black').replace(4, 'native hawaiian').\\\n",
    "    replace(99, 'hispanic').replace([6, 7, 8], 'na')"
   ]
  },
  {
   "cell_type": "code",
   "execution_count": 13,
   "metadata": {},
   "outputs": [],
   "source": [
    "df['agency_code'] = df.agency_code.replace(1, 'OCC').replace(2, 'FRS').\\\n",
    "                    replace(3, 'FDIC').replace(5, 'NCUA').replace(7, 'HUD').replace(9, 'CFPB')\n"
   ]
  },
  {
   "cell_type": "markdown",
   "metadata": {},
   "source": [
    "Double-check these columns match these values in the first three rows (and yes, you should have a lot of other columns, too).\n",
    "\n",
    "|applicant_sex|agency_code|applicant_race|co_applicant|\n",
    "|---|---|---|---|\n",
    "|female|OCC|white|no|\n",
    "|na|OCC|na|unknown|\n",
    "|male|OCC|white|no|\n",
    "\n",
    "## Dummy variables\n",
    "\n",
    "Let's say we're at the end of the homework, and we have a column called `sex`, where `0` is female and `1` is male. After we've done our regression, we can look at the coefficient/odds ratio for `sex` and say something like **\"being male gives you a 1.5x odds of being denied a loan.\"**\n",
    "\n",
    "We can say this because we're looking at one column, and changing `sex` from `0` to `1` would turn the applicant male and give them a 1.5x chance of being denied (the odds ratio).\n",
    "\n",
    "**But let's say we're looking at a column called `race` instead.** We could do the same `0`/`1` thing with white/minority, but what about white/black/asian? If we try to give them `0`/`1`/`2` our coefficient/odds ratio interpreation stops working, because we don't have a nice True/False dichotomy any more, it's now a *real number*.\n",
    "\n",
    "* `0`: White\n",
    "* `1`: Black\n",
    "* `2`: Asian\n",
    "\n",
    "Usually with numbers you can say \"...for every increase of 1...\", but we can't anymore - changing from White to Black (+1) isn't the same as changing from Black to Asian (+1). And you can't subtract Black from Asian to get White. And no, you also can't average together White and Asian to get Black. Just recognize that these aren't numbers, they're categories!\n",
    "\n",
    "**How can we turn races off and on like we can turn the `sex` variable off and on?** A good option is to make *a `0`/`1` column for each race*. We can then flip each race off and on. These are called **dummy variables**."
   ]
  },
  {
   "cell_type": "code",
   "execution_count": 14,
   "metadata": {},
   "outputs": [
    {
     "data": {
      "text/html": [
       "<div>\n",
       "<style scoped>\n",
       "    .dataframe tbody tr th:only-of-type {\n",
       "        vertical-align: middle;\n",
       "    }\n",
       "\n",
       "    .dataframe tbody tr th {\n",
       "        vertical-align: top;\n",
       "    }\n",
       "\n",
       "    .dataframe thead th {\n",
       "        text-align: right;\n",
       "    }\n",
       "</style>\n",
       "<table border=\"1\" class=\"dataframe\">\n",
       "  <thead>\n",
       "    <tr style=\"text-align: right;\">\n",
       "      <th></th>\n",
       "      <th>race_asian</th>\n",
       "      <th>race_black</th>\n",
       "      <th>race_hispanic</th>\n",
       "      <th>race_na</th>\n",
       "      <th>race_native american</th>\n",
       "      <th>race_native hawaiian</th>\n",
       "      <th>race_white</th>\n",
       "    </tr>\n",
       "  </thead>\n",
       "  <tbody>\n",
       "    <tr>\n",
       "      <th>42</th>\n",
       "      <td>0</td>\n",
       "      <td>0</td>\n",
       "      <td>0</td>\n",
       "      <td>0</td>\n",
       "      <td>0</td>\n",
       "      <td>0</td>\n",
       "      <td>1</td>\n",
       "    </tr>\n",
       "    <tr>\n",
       "      <th>43</th>\n",
       "      <td>0</td>\n",
       "      <td>0</td>\n",
       "      <td>0</td>\n",
       "      <td>1</td>\n",
       "      <td>0</td>\n",
       "      <td>0</td>\n",
       "      <td>0</td>\n",
       "    </tr>\n",
       "    <tr>\n",
       "      <th>46</th>\n",
       "      <td>0</td>\n",
       "      <td>0</td>\n",
       "      <td>0</td>\n",
       "      <td>0</td>\n",
       "      <td>0</td>\n",
       "      <td>0</td>\n",
       "      <td>1</td>\n",
       "    </tr>\n",
       "    <tr>\n",
       "      <th>48</th>\n",
       "      <td>1</td>\n",
       "      <td>0</td>\n",
       "      <td>0</td>\n",
       "      <td>0</td>\n",
       "      <td>0</td>\n",
       "      <td>0</td>\n",
       "      <td>0</td>\n",
       "    </tr>\n",
       "    <tr>\n",
       "      <th>51</th>\n",
       "      <td>1</td>\n",
       "      <td>0</td>\n",
       "      <td>0</td>\n",
       "      <td>0</td>\n",
       "      <td>0</td>\n",
       "      <td>0</td>\n",
       "      <td>0</td>\n",
       "    </tr>\n",
       "  </tbody>\n",
       "</table>\n",
       "</div>"
      ],
      "text/plain": [
       "    race_asian  race_black  race_hispanic  race_na  race_native american  \\\n",
       "42           0           0              0        0                     0   \n",
       "43           0           0              0        1                     0   \n",
       "46           0           0              0        0                     0   \n",
       "48           1           0              0        0                     0   \n",
       "51           1           0              0        0                     0   \n",
       "\n",
       "    race_native hawaiian  race_white  \n",
       "42                     0           1  \n",
       "43                     0           0  \n",
       "46                     0           1  \n",
       "48                     0           0  \n",
       "51                     0           0  "
      ]
     },
     "execution_count": 14,
     "metadata": {},
     "output_type": "execute_result"
    }
   ],
   "source": [
    "pd.get_dummies(df.applicant_race, prefix='race').head()"
   ]
  },
  {
   "cell_type": "markdown",
   "metadata": {},
   "source": [
    "Seems to take up a lot of space, but it works a lot better.\n",
    "\n",
    "* The first person is white, so they have a `1` for white and a `0` for every other race\n",
    "* The second person is N/A, so they have a `1` for N/A and a `0` for every other race\n",
    "* The next three are white, asian, and asian, so they have a `1` under the appropriate column.\n",
    "\n",
    "When you're looking at the regression output, each column has its own coefficient (and odds ratio). Since each race now has a column, **each race will also have its own odds ratio.** Asian would have one, Black would have one, Latino would have one - now we can look at the effect of each race separately. For example, you could then say something like \"being Asian (e.g., `race_asian` going from `0` to `1`) gives you a 1.2x greater chance of being denied, and being Black gets you a 2.1x chance of being denied.\"\n",
    "\n",
    "And no, you're never going to have more than one `1` in a row at the same time.\n",
    "\n",
    "After you've created your dummy variables, there's one more step which has a real fun name: **one-hot encoding.**\n",
    "\n",
    "### One-hot encoding\n",
    "\n",
    "When we have two sexes - male and female - we can flip between them with one binary digit, `0` and `1`.\n",
    "\n",
    "If we had three races - White, Asian, Black - using `pd.get_dummies` would make three columns, which makes sense on the surface. But why can we put TWO values in ONE column for sex, and it takes THREE columns for the THREE race values?\n",
    "\n",
    "The truth is, it doesn't have to!\n",
    "\n",
    "Instead of having three columns, we're only going to have two: **asian and black**. And if both of them are `0`? The applicant is white! This is called a **reference category**, and it means **the coefficients/odds ratios for asian and black are in reference to a white applicant.** So it isn't \"being black gets you a 2.1x chance of being denied,\" it's *being black gets you a 2.1x chance of being denied compared to a white person*. For example:\n",
    "\n",
    "|race_asian|race_black|person's race|\n",
    "|---|---|---|\n",
    "|1|0|Asian|\n",
    "|0|1|Black|\n",
    "|0|0|White|\n",
    "|1|1|Not possible if your source is a single race column|\n",
    "\n",
    "To create a one-hot encoded variable with a reference category, you write code like this:"
   ]
  },
  {
   "cell_type": "code",
   "execution_count": 15,
   "metadata": {},
   "outputs": [
    {
     "data": {
      "text/html": [
       "<div>\n",
       "<style scoped>\n",
       "    .dataframe tbody tr th:only-of-type {\n",
       "        vertical-align: middle;\n",
       "    }\n",
       "\n",
       "    .dataframe tbody tr th {\n",
       "        vertical-align: top;\n",
       "    }\n",
       "\n",
       "    .dataframe thead th {\n",
       "        text-align: right;\n",
       "    }\n",
       "</style>\n",
       "<table border=\"1\" class=\"dataframe\">\n",
       "  <thead>\n",
       "    <tr style=\"text-align: right;\">\n",
       "      <th></th>\n",
       "      <th>race_asian</th>\n",
       "      <th>race_black</th>\n",
       "      <th>race_hispanic</th>\n",
       "      <th>race_na</th>\n",
       "      <th>race_native american</th>\n",
       "      <th>race_native hawaiian</th>\n",
       "    </tr>\n",
       "  </thead>\n",
       "  <tbody>\n",
       "    <tr>\n",
       "      <th>42</th>\n",
       "      <td>0</td>\n",
       "      <td>0</td>\n",
       "      <td>0</td>\n",
       "      <td>0</td>\n",
       "      <td>0</td>\n",
       "      <td>0</td>\n",
       "    </tr>\n",
       "    <tr>\n",
       "      <th>43</th>\n",
       "      <td>0</td>\n",
       "      <td>0</td>\n",
       "      <td>0</td>\n",
       "      <td>1</td>\n",
       "      <td>0</td>\n",
       "      <td>0</td>\n",
       "    </tr>\n",
       "    <tr>\n",
       "      <th>46</th>\n",
       "      <td>0</td>\n",
       "      <td>0</td>\n",
       "      <td>0</td>\n",
       "      <td>0</td>\n",
       "      <td>0</td>\n",
       "      <td>0</td>\n",
       "    </tr>\n",
       "    <tr>\n",
       "      <th>48</th>\n",
       "      <td>1</td>\n",
       "      <td>0</td>\n",
       "      <td>0</td>\n",
       "      <td>0</td>\n",
       "      <td>0</td>\n",
       "      <td>0</td>\n",
       "    </tr>\n",
       "    <tr>\n",
       "      <th>51</th>\n",
       "      <td>1</td>\n",
       "      <td>0</td>\n",
       "      <td>0</td>\n",
       "      <td>0</td>\n",
       "      <td>0</td>\n",
       "      <td>0</td>\n",
       "    </tr>\n",
       "  </tbody>\n",
       "</table>\n",
       "</div>"
      ],
      "text/plain": [
       "    race_asian  race_black  race_hispanic  race_na  race_native american  \\\n",
       "42           0           0              0        0                     0   \n",
       "43           0           0              0        1                     0   \n",
       "46           0           0              0        0                     0   \n",
       "48           1           0              0        0                     0   \n",
       "51           1           0              0        0                     0   \n",
       "\n",
       "    race_native hawaiian  \n",
       "42                     0  \n",
       "43                     0  \n",
       "46                     0  \n",
       "48                     0  \n",
       "51                     0  "
      ]
     },
     "execution_count": 15,
     "metadata": {},
     "output_type": "execute_result"
    }
   ],
   "source": [
    "pd.get_dummies(df.applicant_race, prefix='race').drop('race_white', axis=1).head()"
   ]
  },
  {
   "cell_type": "markdown",
   "metadata": {},
   "source": [
    "> We usually use `.drop(columns=...)` to drop columns, but I'm using `axis=1` here because you should be familiar with it\n",
    "\n",
    "### Make a one-hot encoded `sex` category with `female` as the reference category\n",
    "\n",
    "You should end up with two columns: `sex_male` and `sex_na`."
   ]
  },
  {
   "cell_type": "code",
   "execution_count": 16,
   "metadata": {},
   "outputs": [
    {
     "data": {
      "text/html": [
       "<div>\n",
       "<style scoped>\n",
       "    .dataframe tbody tr th:only-of-type {\n",
       "        vertical-align: middle;\n",
       "    }\n",
       "\n",
       "    .dataframe tbody tr th {\n",
       "        vertical-align: top;\n",
       "    }\n",
       "\n",
       "    .dataframe thead th {\n",
       "        text-align: right;\n",
       "    }\n",
       "</style>\n",
       "<table border=\"1\" class=\"dataframe\">\n",
       "  <thead>\n",
       "    <tr style=\"text-align: right;\">\n",
       "      <th></th>\n",
       "      <th>sex_male</th>\n",
       "      <th>sex_na</th>\n",
       "    </tr>\n",
       "  </thead>\n",
       "  <tbody>\n",
       "    <tr>\n",
       "      <th>42</th>\n",
       "      <td>0</td>\n",
       "      <td>0</td>\n",
       "    </tr>\n",
       "    <tr>\n",
       "      <th>43</th>\n",
       "      <td>0</td>\n",
       "      <td>1</td>\n",
       "    </tr>\n",
       "    <tr>\n",
       "      <th>46</th>\n",
       "      <td>1</td>\n",
       "      <td>0</td>\n",
       "    </tr>\n",
       "    <tr>\n",
       "      <th>48</th>\n",
       "      <td>0</td>\n",
       "      <td>0</td>\n",
       "    </tr>\n",
       "    <tr>\n",
       "      <th>51</th>\n",
       "      <td>0</td>\n",
       "      <td>0</td>\n",
       "    </tr>\n",
       "  </tbody>\n",
       "</table>\n",
       "</div>"
      ],
      "text/plain": [
       "    sex_male  sex_na\n",
       "42         0       0\n",
       "43         0       1\n",
       "46         1       0\n",
       "48         0       0\n",
       "51         0       0"
      ]
     },
     "execution_count": 16,
     "metadata": {},
     "output_type": "execute_result"
    }
   ],
   "source": [
    "pd.get_dummies(df.applicant_sex, prefix='sex').drop('sex_female', axis=1).head()"
   ]
  },
  {
   "cell_type": "markdown",
   "metadata": {},
   "source": [
    "## Using one-hot encoded columns\n",
    "\n",
    "Since these one-hot encoded variables are standalone dataframes, we eventually need to combine them into our original dataframe.\n",
    "\n",
    "We have four categorical variables - sex, race, co-applicant, and the loan agency - so we need you to **make four one-hot encoded variables**. Name them like this:\n",
    "\n",
    "* `dummies_sex` - reference category of white\n",
    "* `dummies_race` - reference category of female\n",
    "* `dummies_co_applicant` - reference category of no\n",
    "* `dummies_agency` - reference category of FDIC\n",
    "\n",
    "Typically your reference category is the most common category, because it makes for the most interesting comparisons.\n",
    "\n",
    "> **Tip:** if you're cutting and pasting from above, watch out for `.head()`\n",
    ">\n",
    "> **Tip:** After you've made them, use `.head(2)` to check the first couple rows of each to make sure they look okay"
   ]
  },
  {
   "cell_type": "code",
   "execution_count": 17,
   "metadata": {},
   "outputs": [],
   "source": [
    "dummies_sex = pd.get_dummies(df.applicant_sex, prefix = 'sex').drop('sex_female', axis = 1)"
   ]
  },
  {
   "cell_type": "code",
   "execution_count": 18,
   "metadata": {},
   "outputs": [],
   "source": [
    "dummies_race = pd.get_dummies(df.applicant_race, prefix = 'race').drop('race_white', axis = 1)"
   ]
  },
  {
   "cell_type": "code",
   "execution_count": 19,
   "metadata": {},
   "outputs": [],
   "source": [
    "dummies_co_applicant = pd.get_dummies(df.co_applicant, prefix = 'co_applicant').drop('co_applicant_no', axis = 1)"
   ]
  },
  {
   "cell_type": "code",
   "execution_count": 20,
   "metadata": {},
   "outputs": [],
   "source": [
    "dummies_agency = pd.get_dummies(df.agency_code, prefix = 'agency').drop('agency_FDIC', axis = 1)"
   ]
  },
  {
   "cell_type": "markdown",
   "metadata": {},
   "source": [
    "## Cleaning up our old dataframe\n",
    "\n",
    "Take a look at your original dataframe real quick."
   ]
  },
  {
   "cell_type": "code",
   "execution_count": 21,
   "metadata": {},
   "outputs": [
    {
     "data": {
      "text/html": [
       "<div>\n",
       "<style scoped>\n",
       "    .dataframe tbody tr th:only-of-type {\n",
       "        vertical-align: middle;\n",
       "    }\n",
       "\n",
       "    .dataframe tbody tr th {\n",
       "        vertical-align: top;\n",
       "    }\n",
       "\n",
       "    .dataframe thead th {\n",
       "        text-align: right;\n",
       "    }\n",
       "</style>\n",
       "<table border=\"1\" class=\"dataframe\">\n",
       "  <thead>\n",
       "    <tr style=\"text-align: right;\">\n",
       "      <th></th>\n",
       "      <th>census_tract</th>\n",
       "      <th>county_code</th>\n",
       "      <th>state_code</th>\n",
       "      <th>applicant_sex</th>\n",
       "      <th>income</th>\n",
       "      <th>loan_amount</th>\n",
       "      <th>loan_type</th>\n",
       "      <th>property_type</th>\n",
       "      <th>occupancy</th>\n",
       "      <th>action_type</th>\n",
       "      <th>loan_purpose</th>\n",
       "      <th>agency_code</th>\n",
       "      <th>tract_to_msa_income_percent</th>\n",
       "      <th>applicant_race</th>\n",
       "      <th>co_applicant_sex</th>\n",
       "      <th>log_income</th>\n",
       "      <th>log_loan_amount</th>\n",
       "      <th>loan_income_ratio</th>\n",
       "      <th>co_applicant</th>\n",
       "      <th>loan_denied</th>\n",
       "    </tr>\n",
       "  </thead>\n",
       "  <tbody>\n",
       "    <tr>\n",
       "      <th>42</th>\n",
       "      <td>4019.00</td>\n",
       "      <td>045</td>\n",
       "      <td>42</td>\n",
       "      <td>female</td>\n",
       "      <td>59</td>\n",
       "      <td>112</td>\n",
       "      <td>1</td>\n",
       "      <td>1</td>\n",
       "      <td>1</td>\n",
       "      <td>1</td>\n",
       "      <td>1</td>\n",
       "      <td>OCC</td>\n",
       "      <td>133.09</td>\n",
       "      <td>white</td>\n",
       "      <td>5</td>\n",
       "      <td>4.077537</td>\n",
       "      <td>4.718499</td>\n",
       "      <td>0.864160</td>\n",
       "      <td>no</td>\n",
       "      <td>1</td>\n",
       "    </tr>\n",
       "    <tr>\n",
       "      <th>43</th>\n",
       "      <td>4099.02</td>\n",
       "      <td>045</td>\n",
       "      <td>42</td>\n",
       "      <td>na</td>\n",
       "      <td>177</td>\n",
       "      <td>375</td>\n",
       "      <td>1</td>\n",
       "      <td>1</td>\n",
       "      <td>1</td>\n",
       "      <td>1</td>\n",
       "      <td>1</td>\n",
       "      <td>OCC</td>\n",
       "      <td>208.56</td>\n",
       "      <td>na</td>\n",
       "      <td>3</td>\n",
       "      <td>5.176150</td>\n",
       "      <td>5.926926</td>\n",
       "      <td>0.873328</td>\n",
       "      <td>unknown</td>\n",
       "      <td>1</td>\n",
       "    </tr>\n",
       "    <tr>\n",
       "      <th>46</th>\n",
       "      <td>4102.00</td>\n",
       "      <td>045</td>\n",
       "      <td>42</td>\n",
       "      <td>male</td>\n",
       "      <td>150</td>\n",
       "      <td>381</td>\n",
       "      <td>1</td>\n",
       "      <td>1</td>\n",
       "      <td>1</td>\n",
       "      <td>1</td>\n",
       "      <td>1</td>\n",
       "      <td>OCC</td>\n",
       "      <td>215.35</td>\n",
       "      <td>white</td>\n",
       "      <td>5</td>\n",
       "      <td>5.010635</td>\n",
       "      <td>5.942799</td>\n",
       "      <td>0.843144</td>\n",
       "      <td>no</td>\n",
       "      <td>1</td>\n",
       "    </tr>\n",
       "    <tr>\n",
       "      <th>48</th>\n",
       "      <td>0312.00</td>\n",
       "      <td>101</td>\n",
       "      <td>42</td>\n",
       "      <td>female</td>\n",
       "      <td>65</td>\n",
       "      <td>136</td>\n",
       "      <td>1</td>\n",
       "      <td>1</td>\n",
       "      <td>1</td>\n",
       "      <td>1</td>\n",
       "      <td>1</td>\n",
       "      <td>OCC</td>\n",
       "      <td>93.11</td>\n",
       "      <td>asian</td>\n",
       "      <td>5</td>\n",
       "      <td>4.174387</td>\n",
       "      <td>4.912655</td>\n",
       "      <td>0.849721</td>\n",
       "      <td>no</td>\n",
       "      <td>1</td>\n",
       "    </tr>\n",
       "    <tr>\n",
       "      <th>51</th>\n",
       "      <td>4036.01</td>\n",
       "      <td>045</td>\n",
       "      <td>42</td>\n",
       "      <td>female</td>\n",
       "      <td>55</td>\n",
       "      <td>196</td>\n",
       "      <td>1</td>\n",
       "      <td>1</td>\n",
       "      <td>1</td>\n",
       "      <td>1</td>\n",
       "      <td>1</td>\n",
       "      <td>OCC</td>\n",
       "      <td>141.83</td>\n",
       "      <td>asian</td>\n",
       "      <td>5</td>\n",
       "      <td>4.007333</td>\n",
       "      <td>5.278115</td>\n",
       "      <td>0.759236</td>\n",
       "      <td>no</td>\n",
       "      <td>1</td>\n",
       "    </tr>\n",
       "  </tbody>\n",
       "</table>\n",
       "</div>"
      ],
      "text/plain": [
       "   census_tract county_code state_code applicant_sex  income  loan_amount  \\\n",
       "42      4019.00         045         42        female      59          112   \n",
       "43      4099.02         045         42            na     177          375   \n",
       "46      4102.00         045         42          male     150          381   \n",
       "48      0312.00         101         42        female      65          136   \n",
       "51      4036.01         045         42        female      55          196   \n",
       "\n",
       "    loan_type  property_type  occupancy  action_type  loan_purpose  \\\n",
       "42          1              1          1            1             1   \n",
       "43          1              1          1            1             1   \n",
       "46          1              1          1            1             1   \n",
       "48          1              1          1            1             1   \n",
       "51          1              1          1            1             1   \n",
       "\n",
       "   agency_code  tract_to_msa_income_percent applicant_race  co_applicant_sex  \\\n",
       "42         OCC                       133.09          white                 5   \n",
       "43         OCC                       208.56             na                 3   \n",
       "46         OCC                       215.35          white                 5   \n",
       "48         OCC                        93.11          asian                 5   \n",
       "51         OCC                       141.83          asian                 5   \n",
       "\n",
       "    log_income  log_loan_amount  loan_income_ratio co_applicant  loan_denied  \n",
       "42    4.077537         4.718499           0.864160           no            1  \n",
       "43    5.176150         5.926926           0.873328      unknown            1  \n",
       "46    5.010635         5.942799           0.843144           no            1  \n",
       "48    4.174387         4.912655           0.849721           no            1  \n",
       "51    4.007333         5.278115           0.759236           no            1  "
      ]
     },
     "execution_count": 21,
     "metadata": {},
     "output_type": "execute_result"
    }
   ],
   "source": [
    "df.head()"
   ]
  },
  {
   "cell_type": "markdown",
   "metadata": {},
   "source": [
    "We don't need all of those columns! If we look at the list of columns we'll be using for the regression:\n",
    "\n",
    "* Race/Ethnicity\n",
    "* Sex\n",
    "* Whether there was a co-applicant\n",
    "* Applicant’s annual income (includes co-applicant income)\n",
    "* Loan amount\n",
    "* Ratio between the loan amount and the applicant’s income\n",
    "* Ratio between the median income of the census tract and the median income of the metro area\n",
    "* Racial and ethnic breakdown by percentage for each census tract\n",
    "* Regulating agency of the lending institution\n",
    "\n",
    "We can keep anything in that list, and remove everything else. For example, we can drop the variables we used to create the dummy variables, as we'll be adding the one-hot encoded versions in for the next step.\n",
    "\n",
    "For \"Racial and ethnic breakdown by percentage for each census tract\" we'll need to join with some census data later, so we need to also keep census tract, county code and state code.\n",
    "\n",
    "**Build a new dataframe with only the columns we're interested in, call it `numeric`.** We're calling it `numeric` because it's mostly numeric columns after the categorical ones have been removed.\n",
    "\n",
    "> **Tip:** You can either use `.drop(columns=` to remove unwanted columns or `df = df[['col1', 'col2', ... 'col12']]` to only select the ones you're interseted in"
   ]
  },
  {
   "cell_type": "code",
   "execution_count": 22,
   "metadata": {},
   "outputs": [],
   "source": [
    "numeric = df[['census_tract','county_code', 'state_code','tract_to_msa_income_percent',\n",
    "         'income', 'loan_amount', 'loan_income_ratio', 'loan_denied']]\n",
    "\n"
   ]
  },
  {
   "cell_type": "markdown",
   "metadata": {},
   "source": [
    "Confirm that `numeric` has 8 columns."
   ]
  },
  {
   "cell_type": "code",
   "execution_count": 23,
   "metadata": {},
   "outputs": [
    {
     "data": {
      "text/plain": [
       "(10107, 8)"
      ]
     },
     "execution_count": 23,
     "metadata": {},
     "output_type": "execute_result"
    }
   ],
   "source": [
    "numeric.shape"
   ]
  },
  {
   "cell_type": "markdown",
   "metadata": {},
   "source": [
    "### Combining our features\n",
    "\n",
    "We now have 1 dataframe of numeric features (and some merge columns), and 4 one-hot-encoded variables (each with their own dataframe). Combine all five dataframes into one large dataframe called `loan_features`."
   ]
  },
  {
   "cell_type": "code",
   "execution_count": 24,
   "metadata": {},
   "outputs": [],
   "source": [
    "loan_features = numeric.merge(dummies_sex, left_index = True, right_index = True)\\\n",
    "                   .merge(dummies_race, left_index = True, right_index = True)\\\n",
    "                   .merge(dummies_agency, left_index = True, right_index = True)\\\n",
    "                   .merge(dummies_co_applicant, left_index = True, right_index = True)"
   ]
  },
  {
   "cell_type": "markdown",
   "metadata": {},
   "source": [
    "Confirm that `loan_features` has 10,107 rows and 23 columns."
   ]
  },
  {
   "cell_type": "code",
   "execution_count": 25,
   "metadata": {},
   "outputs": [
    {
     "data": {
      "text/plain": [
       "(10107, 23)"
      ]
     },
     "execution_count": 25,
     "metadata": {},
     "output_type": "execute_result"
    }
   ],
   "source": [
    "loan_features.shape"
   ]
  },
  {
   "cell_type": "markdown",
   "metadata": {},
   "source": [
    "# Census data\n",
    "\n",
    "Now we just need the final piece to the puzzle, the census data. Read in the census data file, calling the dataframe `census`.\n",
    "\n",
    "> **Tip:** As always, be sure to read the tract column in as a string. Interestingly, this time we _don't_ need to worry about the state or county codes in the same way.\n",
    ">\n",
    "> **Tip:** You're going to encounter a problem that you find every time you read in a file from the US government!"
   ]
  },
  {
   "cell_type": "code",
   "execution_count": 26,
   "metadata": {},
   "outputs": [],
   "source": [
    "census = pd.read_csv('nhgis0007_ds215_20155_2015_tract.csv', encoding = 'latin-1', dtype = {'TRACTA': str, 'COUNTYA': str, 'STATEA':str})"
   ]
  },
  {
   "cell_type": "markdown",
   "metadata": {},
   "source": [
    "## Rename some columns\n",
    "\n",
    "If you like to keep your data extra clean, feel free to rename the columns you're interested in. If not, feel free to skip it!\n",
    "\n",
    "> **Tip:** Make sure you're using the estimates columns, not the margin of error columns"
   ]
  },
  {
   "cell_type": "code",
   "execution_count": 27,
   "metadata": {},
   "outputs": [],
   "source": [
    "import re\n",
    "names = '''\n",
    "ADK5E001:    Total\n",
    "ADK5E003:    White\n",
    "ADK5E004:    Black\n",
    "ADK5E005:    Amer_Indian\n",
    "ADK5E006:    Asian \n",
    "ADK5E007:    Pac_Islander\n",
    "ADK5E012:    Hispanic\n",
    "'''\n",
    "\n",
    "keys = re.findall('(ADK.+):', names)\n",
    "values = re.findall('.+:\\s+(\\w+)', names)\n",
    "\n",
    "col = dict(zip(keys, values))"
   ]
  },
  {
   "cell_type": "code",
   "execution_count": 28,
   "metadata": {},
   "outputs": [
    {
     "data": {
      "text/plain": [
       "Index(['GISJOIN', 'YEAR', 'REGIONA', 'DIVISIONA', 'STATE', 'STATEA', 'COUNTY',\n",
       "       'COUNTYA', 'COUSUBA', 'PLACEA', 'TRACTA', 'BLKGRPA', 'CONCITA',\n",
       "       'AIANHHA', 'RES_ONLYA', 'TRUSTA', 'AITSCEA', 'ANRCA', 'CBSAA', 'CSAA',\n",
       "       'METDIVA', 'NECTAA', 'CNECTAA', 'NECTADIVA', 'UAA', 'CDCURRA', 'SLDUA',\n",
       "       'SLDLA', 'ZCTA5A', 'SUBMCDA', 'SDELMA', 'SDSECA', 'SDUNIA', 'PUMA5A',\n",
       "       'BTTRA', 'BTBGA', 'NAME_E', 'Total', 'ADK5E002', 'White', 'Black',\n",
       "       'Amer_Indian', 'Asian', 'Pac_Islander', 'ADK5E008', 'ADK5E009',\n",
       "       'ADK5E010', 'ADK5E011', 'Hispanic', 'ADK5E013', 'ADK5E014', 'ADK5E015',\n",
       "       'ADK5E016', 'ADK5E017', 'ADK5E018', 'ADK5E019', 'ADK5E020', 'ADK5E021',\n",
       "       'NAME_M', 'ADK5M001', 'ADK5M002', 'ADK5M003', 'ADK5M004', 'ADK5M005',\n",
       "       'ADK5M006', 'ADK5M007', 'ADK5M008', 'ADK5M009', 'ADK5M010', 'ADK5M011',\n",
       "       'ADK5M012', 'ADK5M013', 'ADK5M014', 'ADK5M015', 'ADK5M016', 'ADK5M017',\n",
       "       'ADK5M018', 'ADK5M019', 'ADK5M020', 'ADK5M021'],\n",
       "      dtype='object')"
      ]
     },
     "execution_count": 28,
     "metadata": {},
     "output_type": "execute_result"
    }
   ],
   "source": [
    "census = census.rename(columns = col)\n",
    "census.columns"
   ]
  },
  {
   "cell_type": "markdown",
   "metadata": {},
   "source": [
    "## Computed columns\n",
    "\n",
    "According to Reveal's regression output, you'll want to create the following columns:\n",
    "\n",
    "* Percent Black in tract\n",
    "* Percent Hispanic/Latino in tract (I hope you know how Hispanic/Latino + census data works by now)\n",
    "* Percent Asian in tract\n",
    "* Percent Native American in tract\n",
    "* Percent Native Hawaiian in tract\n",
    "\n",
    "Notice that we don't include percent white - **because all of the other columns add up to percent white, we ignore it!** It's similar to a reference category.\n",
    "\n",
    "> If we want to use buzzwords here, the technical reason we're not using percent white is called **collinearity.** We'll talk more about it on Friday."
   ]
  },
  {
   "cell_type": "code",
   "execution_count": 29,
   "metadata": {},
   "outputs": [],
   "source": [
    "census['pct_hispanic'] = census.Hispanic / census.Total * 100\n",
    "census['pct_black'] = census.Black / census.Total * 100\n",
    "census['pct_amer_indian'] = census.Amer_Indian / census.Total * 100\n",
    "census['pct_asian'] = census.Asian / census.Total * 100\n",
    "census['pct_pac_islander'] = census.Pac_Islander / census.Total * 100"
   ]
  },
  {
   "cell_type": "markdown",
   "metadata": {},
   "source": [
    "## Only keep what we need to join and process\n",
    "\n",
    "We're only interested in the percentage columns that we computed. Create a new dataframe called `census_features` that is only those columns along with the one we'll need for joining with the mortgage data.\n",
    "\n",
    "> * **Tip:** Remember we saved state, county and tract codes when working on the loan data"
   ]
  },
  {
   "cell_type": "code",
   "execution_count": 30,
   "metadata": {},
   "outputs": [],
   "source": [
    "census_features = census[['STATEA', 'COUNTYA', 'TRACTA', 'pct_hispanic', 'pct_black', 'pct_amer_indian', 'pct_asian', 'pct_pac_islander']]"
   ]
  },
  {
   "cell_type": "code",
   "execution_count": 31,
   "metadata": {},
   "outputs": [
    {
     "data": {
      "text/html": [
       "<div>\n",
       "<style scoped>\n",
       "    .dataframe tbody tr th:only-of-type {\n",
       "        vertical-align: middle;\n",
       "    }\n",
       "\n",
       "    .dataframe tbody tr th {\n",
       "        vertical-align: top;\n",
       "    }\n",
       "\n",
       "    .dataframe thead th {\n",
       "        text-align: right;\n",
       "    }\n",
       "</style>\n",
       "<table border=\"1\" class=\"dataframe\">\n",
       "  <thead>\n",
       "    <tr style=\"text-align: right;\">\n",
       "      <th></th>\n",
       "      <th>STATEA</th>\n",
       "      <th>COUNTYA</th>\n",
       "      <th>TRACTA</th>\n",
       "      <th>pct_hispanic</th>\n",
       "      <th>pct_black</th>\n",
       "      <th>pct_amer_indian</th>\n",
       "      <th>pct_asian</th>\n",
       "      <th>pct_pac_islander</th>\n",
       "    </tr>\n",
       "  </thead>\n",
       "  <tbody>\n",
       "    <tr>\n",
       "      <th>0</th>\n",
       "      <td>01</td>\n",
       "      <td>001</td>\n",
       "      <td>020100</td>\n",
       "      <td>0.872690</td>\n",
       "      <td>7.700205</td>\n",
       "      <td>0.308008</td>\n",
       "      <td>0.616016</td>\n",
       "      <td>0.000000</td>\n",
       "    </tr>\n",
       "    <tr>\n",
       "      <th>1</th>\n",
       "      <td>01</td>\n",
       "      <td>001</td>\n",
       "      <td>020200</td>\n",
       "      <td>0.788497</td>\n",
       "      <td>53.293135</td>\n",
       "      <td>0.000000</td>\n",
       "      <td>2.319109</td>\n",
       "      <td>0.000000</td>\n",
       "    </tr>\n",
       "    <tr>\n",
       "      <th>2</th>\n",
       "      <td>01</td>\n",
       "      <td>001</td>\n",
       "      <td>020300</td>\n",
       "      <td>0.000000</td>\n",
       "      <td>18.564690</td>\n",
       "      <td>0.505391</td>\n",
       "      <td>1.381402</td>\n",
       "      <td>0.269542</td>\n",
       "    </tr>\n",
       "    <tr>\n",
       "      <th>3</th>\n",
       "      <td>01</td>\n",
       "      <td>001</td>\n",
       "      <td>020400</td>\n",
       "      <td>10.490617</td>\n",
       "      <td>3.662672</td>\n",
       "      <td>1.560027</td>\n",
       "      <td>0.000000</td>\n",
       "      <td>0.000000</td>\n",
       "    </tr>\n",
       "    <tr>\n",
       "      <th>4</th>\n",
       "      <td>01</td>\n",
       "      <td>001</td>\n",
       "      <td>020500</td>\n",
       "      <td>0.743287</td>\n",
       "      <td>24.844374</td>\n",
       "      <td>0.000000</td>\n",
       "      <td>3.827929</td>\n",
       "      <td>0.000000</td>\n",
       "    </tr>\n",
       "  </tbody>\n",
       "</table>\n",
       "</div>"
      ],
      "text/plain": [
       "  STATEA COUNTYA  TRACTA  pct_hispanic  pct_black  pct_amer_indian  pct_asian  \\\n",
       "0     01     001  020100      0.872690   7.700205         0.308008   0.616016   \n",
       "1     01     001  020200      0.788497  53.293135         0.000000   2.319109   \n",
       "2     01     001  020300      0.000000  18.564690         0.505391   1.381402   \n",
       "3     01     001  020400     10.490617   3.662672         1.560027   0.000000   \n",
       "4     01     001  020500      0.743287  24.844374         0.000000   3.827929   \n",
       "\n",
       "   pct_pac_islander  \n",
       "0          0.000000  \n",
       "1          0.000000  \n",
       "2          0.269542  \n",
       "3          0.000000  \n",
       "4          0.000000  "
      ]
     },
     "execution_count": 31,
     "metadata": {},
     "output_type": "execute_result"
    }
   ],
   "source": [
    "census_features.head()"
   ]
  },
  {
   "cell_type": "markdown",
   "metadata": {},
   "source": [
    "Confirm that your first few rows look something like this:\n",
    "    \n",
    "|STATEA|COUNTYA|TRACTA|pct_hispanic|pct_black|pct_amer_indian|pct_asian|pct_pac_islander|\n",
    "|---|---|---|---|---|---|---|---|\n",
    "|1|1|020100|0.872690|7.700205|0.308008|0.616016|0.000000|\n",
    "|1|1|020200|0.788497|53.293135|0.000000|2.319109|0.000000|\n",
    "|1|1|020300|0.000000|18.564690|0.505391|1.381402|0.269542|\n",
    "|1|1|020400|10.490617|3.662672|1.560027|0.000000|0.000000|\n",
    "|1|1|020500|0.743287|24.844374|0.000000|3.827929|0.000000|\n",
    "\n",
    "Your column headers might be different but your numbers should match."
   ]
  },
  {
   "cell_type": "markdown",
   "metadata": {},
   "source": [
    "# Merge datasets\n",
    "\n",
    "Merge `loan_features` and `census_features` into a new dataframe called `merged`.\n",
    "\n",
    "Unfortunately something is a little different between our `loan_features` and `census_features` census tract columns. You'll need to fix it before you can merge.\n",
    "\n",
    "## Cleaning"
   ]
  },
  {
   "cell_type": "code",
   "execution_count": 32,
   "metadata": {},
   "outputs": [],
   "source": [
    "loan_features['census_tract'] = loan_features.census_tract.str.replace('.', '')"
   ]
  },
  {
   "cell_type": "code",
   "execution_count": 33,
   "metadata": {
    "scrolled": true
   },
   "outputs": [
    {
     "name": "stderr",
     "output_type": "stream",
     "text": [
      "/Users/jingyang/anaconda3/lib/python3.7/site-packages/pandas/core/frame.py:3391: SettingWithCopyWarning: \n",
      "A value is trying to be set on a copy of a slice from a DataFrame.\n",
      "Try using .loc[row_indexer,col_indexer] = value instead\n",
      "\n",
      "See the caveats in the documentation: http://pandas.pydata.org/pandas-docs/stable/indexing.html#indexing-view-versus-copy\n",
      "  self[k1] = value[k2]\n"
     ]
    }
   ],
   "source": [
    "census_features[['TRACTA', 'COUNTYA', 'STATEA']] = census_features[['TRACTA', 'COUNTYA', 'STATEA']].astype(str)\n"
   ]
  },
  {
   "cell_type": "code",
   "execution_count": 48,
   "metadata": {},
   "outputs": [
    {
     "name": "stdout",
     "output_type": "stream",
     "text": [
      "<class 'pandas.core.frame.DataFrame'>\n",
      "RangeIndex: 74001 entries, 0 to 74000\n",
      "Data columns (total 8 columns):\n",
      "STATEA              74001 non-null object\n",
      "COUNTYA             74001 non-null object\n",
      "TRACTA              74001 non-null object\n",
      "pct_hispanic        73311 non-null float64\n",
      "pct_black           73311 non-null float64\n",
      "pct_amer_indian     73311 non-null float64\n",
      "pct_asian           73311 non-null float64\n",
      "pct_pac_islander    73311 non-null float64\n",
      "dtypes: float64(5), object(3)\n",
      "memory usage: 4.5+ MB\n"
     ]
    }
   ],
   "source": [
    "census_features.info()"
   ]
  },
  {
   "cell_type": "code",
   "execution_count": 49,
   "metadata": {},
   "outputs": [
    {
     "name": "stdout",
     "output_type": "stream",
     "text": [
      "<class 'pandas.core.frame.DataFrame'>\n",
      "Int64Index: 10107 entries, 42 to 60664\n",
      "Data columns (total 23 columns):\n",
      "census_tract                   10107 non-null object\n",
      "county_code                    10107 non-null object\n",
      "state_code                     10107 non-null object\n",
      "tract_to_msa_income_percent    10107 non-null float64\n",
      "income                         10107 non-null int64\n",
      "loan_amount                    10107 non-null int64\n",
      "loan_income_ratio              10107 non-null float64\n",
      "loan_denied                    10107 non-null int64\n",
      "sex_male                       10107 non-null uint8\n",
      "sex_na                         10107 non-null uint8\n",
      "race_asian                     10107 non-null uint8\n",
      "race_black                     10107 non-null uint8\n",
      "race_hispanic                  10107 non-null uint8\n",
      "race_na                        10107 non-null uint8\n",
      "race_native american           10107 non-null uint8\n",
      "race_native hawaiian           10107 non-null uint8\n",
      "agency_CFPB                    10107 non-null uint8\n",
      "agency_FRS                     10107 non-null uint8\n",
      "agency_HUD                     10107 non-null uint8\n",
      "agency_NCUA                    10107 non-null uint8\n",
      "agency_OCC                     10107 non-null uint8\n",
      "co_applicant_unknown           10107 non-null uint8\n",
      "co_applicant_yes               10107 non-null uint8\n",
      "dtypes: float64(2), int64(3), object(3), uint8(15)\n",
      "memory usage: 1.2+ MB\n"
     ]
    }
   ],
   "source": [
    "loan_features.info()"
   ]
  },
  {
   "cell_type": "markdown",
   "metadata": {},
   "source": [
    "## Do the merge"
   ]
  },
  {
   "cell_type": "code",
   "execution_count": 34,
   "metadata": {
    "scrolled": true
   },
   "outputs": [],
   "source": [
    "merged = loan_features.merge(census_features, left_on = ['census_tract', 'county_code', 'state_code'], \n",
    "                    right_on = ['TRACTA', 'COUNTYA', 'STATEA'])\n"
   ]
  },
  {
   "cell_type": "code",
   "execution_count": null,
   "metadata": {},
   "outputs": [],
   "source": []
  },
  {
   "cell_type": "markdown",
   "metadata": {},
   "source": [
    "Confirm you have 10107 rows and 31 columns in the merged dataframe."
   ]
  },
  {
   "cell_type": "code",
   "execution_count": 36,
   "metadata": {},
   "outputs": [
    {
     "data": {
      "text/plain": [
       "(10107, 31)"
      ]
     },
     "execution_count": 36,
     "metadata": {},
     "output_type": "execute_result"
    }
   ],
   "source": [
    "merged.shape"
   ]
  },
  {
   "cell_type": "markdown",
   "metadata": {},
   "source": [
    "# Our final dataframe\n",
    "\n",
    "Drop all of the columns we merged on and save it as `train_df`."
   ]
  },
  {
   "cell_type": "code",
   "execution_count": 37,
   "metadata": {},
   "outputs": [],
   "source": [
    "train_df = merged.drop(columns = ['census_tract', 'county_code', 'state_code', 'STATEA', 'COUNTYA', 'TRACTA'])"
   ]
  },
  {
   "cell_type": "markdown",
   "metadata": {},
   "source": [
    "Confirm that `train_df` has 10107 rows and 25 columns."
   ]
  },
  {
   "cell_type": "code",
   "execution_count": 38,
   "metadata": {},
   "outputs": [
    {
     "data": {
      "text/plain": [
       "(10107, 25)"
      ]
     },
     "execution_count": 38,
     "metadata": {},
     "output_type": "execute_result"
    }
   ],
   "source": [
    "train_df.shape"
   ]
  },
  {
   "cell_type": "markdown",
   "metadata": {},
   "source": [
    "## Final cleanup\n",
    "\n",
    "Because we can't have missing data before we run a regression, check the size of `train_df`, then drop any missing data and check the size again. **Confirm you don't lose any rows.**"
   ]
  },
  {
   "cell_type": "code",
   "execution_count": 39,
   "metadata": {},
   "outputs": [],
   "source": [
    "train_df = train_df.dropna()"
   ]
  },
  {
   "cell_type": "code",
   "execution_count": 40,
   "metadata": {},
   "outputs": [
    {
     "data": {
      "text/plain": [
       "tract_to_msa_income_percent    0\n",
       "income                         0\n",
       "loan_amount                    0\n",
       "loan_income_ratio              0\n",
       "loan_denied                    0\n",
       "sex_male                       0\n",
       "sex_na                         0\n",
       "race_asian                     0\n",
       "race_black                     0\n",
       "race_hispanic                  0\n",
       "race_na                        0\n",
       "race_native american           0\n",
       "race_native hawaiian           0\n",
       "agency_CFPB                    0\n",
       "agency_FRS                     0\n",
       "agency_HUD                     0\n",
       "agency_NCUA                    0\n",
       "agency_OCC                     0\n",
       "co_applicant_unknown           0\n",
       "co_applicant_yes               0\n",
       "pct_hispanic                   0\n",
       "pct_black                      0\n",
       "pct_amer_indian                0\n",
       "pct_asian                      0\n",
       "pct_pac_islander               0\n",
       "dtype: int64"
      ]
     },
     "execution_count": 40,
     "metadata": {},
     "output_type": "execute_result"
    }
   ],
   "source": [
    "(train_df == np.inf).sum()"
   ]
  },
  {
   "cell_type": "code",
   "execution_count": 41,
   "metadata": {},
   "outputs": [
    {
     "data": {
      "text/plain": [
       "(10107, 25)"
      ]
     },
     "execution_count": 41,
     "metadata": {},
     "output_type": "execute_result"
    }
   ],
   "source": [
    "train_df.shape"
   ]
  },
  {
   "cell_type": "markdown",
   "metadata": {},
   "source": [
    "# Performing our regression\n",
    "\n",
    "## Try with statsmodels\n",
    "\n",
    "First try to run a linear regression with statsmodels, because even though sometimes it complains and breaks, the output just looks *so nice*. Instead of `sm.OLS` we'll use `sm.Logit`."
   ]
  },
  {
   "cell_type": "code",
   "execution_count": 42,
   "metadata": {
    "scrolled": true
   },
   "outputs": [
    {
     "data": {
      "text/plain": [
       "Index(['tract_to_msa_income_percent', 'income', 'loan_amount',\n",
       "       'loan_income_ratio', 'loan_denied', 'sex_male', 'sex_na', 'race_asian',\n",
       "       'race_black', 'race_hispanic', 'race_na', 'race_native american',\n",
       "       'race_native hawaiian', 'agency_CFPB', 'agency_FRS', 'agency_HUD',\n",
       "       'agency_NCUA', 'agency_OCC', 'co_applicant_unknown', 'co_applicant_yes',\n",
       "       'pct_hispanic', 'pct_black', 'pct_amer_indian', 'pct_asian',\n",
       "       'pct_pac_islander'],\n",
       "      dtype='object')"
      ]
     },
     "execution_count": 42,
     "metadata": {},
     "output_type": "execute_result"
    }
   ],
   "source": [
    "train_df.columns"
   ]
  },
  {
   "cell_type": "code",
   "execution_count": 43,
   "metadata": {
    "scrolled": false
   },
   "outputs": [
    {
     "name": "stdout",
     "output_type": "stream",
     "text": [
      "Optimization terminated successfully.\n",
      "         Current function value: 0.346787\n",
      "         Iterations 7\n"
     ]
    },
    {
     "data": {
      "text/html": [
       "<table class=\"simpletable\">\n",
       "<tr>\n",
       "        <td>Model:</td>              <td>Logit</td>      <td>Pseudo R-squared:</td>    <td>0.063</td>  \n",
       "</tr>\n",
       "<tr>\n",
       "  <td>Dependent Variable:</td>    <td>loan_denied</td>         <td>AIC:</td>         <td>7057.9574</td>\n",
       "</tr>\n",
       "<tr>\n",
       "         <td>Date:</td>        <td>2019-07-26 11:09</td>       <td>BIC:</td>         <td>7231.2610</td>\n",
       "</tr>\n",
       "<tr>\n",
       "   <td>No. Observations:</td>        <td>10107</td>       <td>Log-Likelihood:</td>    <td>-3505.0</td> \n",
       "</tr>\n",
       "<tr>\n",
       "       <td>Df Model:</td>             <td>23</td>            <td>LL-Null:</td>        <td>-3740.6</td> \n",
       "</tr>\n",
       "<tr>\n",
       "     <td>Df Residuals:</td>          <td>10083</td>        <td>LLR p-value:</td>    <td>3.3800e-85</td>\n",
       "</tr>\n",
       "<tr>\n",
       "      <td>Converged:</td>           <td>1.0000</td>           <td>Scale:</td>         <td>1.0000</td>  \n",
       "</tr>\n",
       "<tr>\n",
       "    <td>No. Iterations:</td>        <td>7.0000</td>              <td></td>               <td></td>     \n",
       "</tr>\n",
       "</table>\n",
       "<table class=\"simpletable\">\n",
       "<tr>\n",
       "               <td></td>                <th>Coef.</th>  <th>Std.Err.</th>    <th>z</th>     <th>P>|z|</th> <th>[0.025</th>  <th>0.975]</th> \n",
       "</tr>\n",
       "<tr>\n",
       "  <th>tract_to_msa_income_percent</th> <td>0.0027</td>   <td>0.0007</td>  <td>4.0600</td>  <td>0.0000</td> <td>0.0014</td>  <td>0.0040</td> \n",
       "</tr>\n",
       "<tr>\n",
       "  <th>income</th>                      <td>-0.0003</td>  <td>0.0002</td>  <td>-1.3469</td> <td>0.1780</td> <td>-0.0007</td> <td>0.0001</td> \n",
       "</tr>\n",
       "<tr>\n",
       "  <th>loan_amount</th>                 <td>0.0015</td>   <td>0.0003</td>  <td>5.5234</td>  <td>0.0000</td> <td>0.0010</td>  <td>0.0020</td> \n",
       "</tr>\n",
       "<tr>\n",
       "  <th>loan_income_ratio</th>           <td>1.5983</td>   <td>0.1660</td>  <td>9.6308</td>  <td>0.0000</td> <td>1.2730</td>  <td>1.9235</td> \n",
       "</tr>\n",
       "<tr>\n",
       "  <th>sex_male</th>                    <td>0.0332</td>   <td>0.0674</td>  <td>0.4924</td>  <td>0.6224</td> <td>-0.0989</td> <td>0.1652</td> \n",
       "</tr>\n",
       "<tr>\n",
       "  <th>sex_na</th>                      <td>0.2569</td>   <td>0.1738</td>  <td>1.4788</td>  <td>0.1392</td> <td>-0.0836</td> <td>0.5975</td> \n",
       "</tr>\n",
       "<tr>\n",
       "  <th>race_asian</th>                  <td>-0.3028</td>  <td>0.1015</td>  <td>-2.9820</td> <td>0.0029</td> <td>-0.5018</td> <td>-0.1038</td>\n",
       "</tr>\n",
       "<tr>\n",
       "  <th>race_black</th>                  <td>-0.8356</td>  <td>0.1116</td>  <td>-7.4848</td> <td>0.0000</td> <td>-1.0545</td> <td>-0.6168</td>\n",
       "</tr>\n",
       "<tr>\n",
       "  <th>race_hispanic</th>               <td>-0.4300</td>  <td>0.1584</td>  <td>-2.7149</td> <td>0.0066</td> <td>-0.7405</td> <td>-0.1196</td>\n",
       "</tr>\n",
       "<tr>\n",
       "  <th>race_na</th>                     <td>-0.3939</td>  <td>0.1179</td>  <td>-3.3401</td> <td>0.0008</td> <td>-0.6250</td> <td>-0.1628</td>\n",
       "</tr>\n",
       "<tr>\n",
       "  <th>race_native american</th>        <td>-0.9948</td>  <td>0.5593</td>  <td>-1.7785</td> <td>0.0753</td> <td>-2.0910</td> <td>0.1015</td> \n",
       "</tr>\n",
       "<tr>\n",
       "  <th>race_native hawaiian</th>        <td>-0.9133</td>  <td>0.4539</td>  <td>-2.0121</td> <td>0.0442</td> <td>-1.8030</td> <td>-0.0237</td>\n",
       "</tr>\n",
       "<tr>\n",
       "  <th>agency_CFPB</th>                 <td>-0.5149</td>  <td>0.1078</td>  <td>-4.7748</td> <td>0.0000</td> <td>-0.7262</td> <td>-0.3035</td>\n",
       "</tr>\n",
       "<tr>\n",
       "  <th>agency_FRS</th>                  <td>0.6795</td>   <td>0.2028</td>  <td>3.3507</td>  <td>0.0008</td> <td>0.2820</td>  <td>1.0769</td> \n",
       "</tr>\n",
       "<tr>\n",
       "  <th>agency_HUD</th>                  <td>0.5233</td>   <td>0.1112</td>  <td>4.7072</td>  <td>0.0000</td> <td>0.3054</td>  <td>0.7412</td> \n",
       "</tr>\n",
       "<tr>\n",
       "  <th>agency_NCUA</th>                 <td>-0.7039</td>  <td>0.1285</td>  <td>-5.4795</td> <td>0.0000</td> <td>-0.9557</td> <td>-0.4521</td>\n",
       "</tr>\n",
       "<tr>\n",
       "  <th>agency_OCC</th>                  <td>0.1222</td>   <td>0.1799</td>  <td>0.6795</td>  <td>0.4968</td> <td>-0.2303</td> <td>0.4748</td> \n",
       "</tr>\n",
       "<tr>\n",
       "  <th>co_applicant_unknown</th>        <td>-0.3245</td>  <td>0.2036</td>  <td>-1.5939</td> <td>0.1109</td> <td>-0.7236</td> <td>0.0745</td> \n",
       "</tr>\n",
       "<tr>\n",
       "  <th>co_applicant_yes</th>            <td>0.2332</td>   <td>0.0748</td>  <td>3.1181</td>  <td>0.0018</td> <td>0.0866</td>  <td>0.3798</td> \n",
       "</tr>\n",
       "<tr>\n",
       "  <th>pct_hispanic</th>                <td>0.0018</td>   <td>0.0034</td>  <td>0.5293</td>  <td>0.5966</td> <td>-0.0049</td> <td>0.0085</td> \n",
       "</tr>\n",
       "<tr>\n",
       "  <th>pct_black</th>                   <td>-0.0013</td>  <td>0.0015</td>  <td>-0.8419</td> <td>0.3998</td> <td>-0.0042</td> <td>0.0017</td> \n",
       "</tr>\n",
       "<tr>\n",
       "  <th>pct_amer_indian</th>             <td>0.3030</td>   <td>0.0968</td>  <td>3.1301</td>  <td>0.0017</td> <td>0.1133</td>  <td>0.4927</td> \n",
       "</tr>\n",
       "<tr>\n",
       "  <th>pct_asian</th>                   <td>0.0018</td>   <td>0.0043</td>  <td>0.4142</td>  <td>0.6787</td> <td>-0.0067</td> <td>0.0103</td> \n",
       "</tr>\n",
       "<tr>\n",
       "  <th>pct_pac_islander</th>            <td>0.0662</td>   <td>0.1560</td>  <td>0.4245</td>  <td>0.6712</td> <td>-0.2395</td> <td>0.3720</td> \n",
       "</tr>\n",
       "</table>"
      ],
      "text/plain": [
       "<class 'statsmodels.iolib.summary2.Summary'>\n",
       "\"\"\"\n",
       "                              Results: Logit\n",
       "===========================================================================\n",
       "Model:                  Logit               Pseudo R-squared:    0.063     \n",
       "Dependent Variable:     loan_denied         AIC:                 7057.9574 \n",
       "Date:                   2019-07-26 11:09    BIC:                 7231.2610 \n",
       "No. Observations:       10107               Log-Likelihood:      -3505.0   \n",
       "Df Model:               23                  LL-Null:             -3740.6   \n",
       "Df Residuals:           10083               LLR p-value:         3.3800e-85\n",
       "Converged:              1.0000              Scale:               1.0000    \n",
       "No. Iterations:         7.0000                                             \n",
       "---------------------------------------------------------------------------\n",
       "                             Coef.  Std.Err.    z    P>|z|   [0.025  0.975]\n",
       "---------------------------------------------------------------------------\n",
       "tract_to_msa_income_percent  0.0027   0.0007  4.0600 0.0000  0.0014  0.0040\n",
       "income                      -0.0003   0.0002 -1.3469 0.1780 -0.0007  0.0001\n",
       "loan_amount                  0.0015   0.0003  5.5234 0.0000  0.0010  0.0020\n",
       "loan_income_ratio            1.5983   0.1660  9.6308 0.0000  1.2730  1.9235\n",
       "sex_male                     0.0332   0.0674  0.4924 0.6224 -0.0989  0.1652\n",
       "sex_na                       0.2569   0.1738  1.4788 0.1392 -0.0836  0.5975\n",
       "race_asian                  -0.3028   0.1015 -2.9820 0.0029 -0.5018 -0.1038\n",
       "race_black                  -0.8356   0.1116 -7.4848 0.0000 -1.0545 -0.6168\n",
       "race_hispanic               -0.4300   0.1584 -2.7149 0.0066 -0.7405 -0.1196\n",
       "race_na                     -0.3939   0.1179 -3.3401 0.0008 -0.6250 -0.1628\n",
       "race_native american        -0.9948   0.5593 -1.7785 0.0753 -2.0910  0.1015\n",
       "race_native hawaiian        -0.9133   0.4539 -2.0121 0.0442 -1.8030 -0.0237\n",
       "agency_CFPB                 -0.5149   0.1078 -4.7748 0.0000 -0.7262 -0.3035\n",
       "agency_FRS                   0.6795   0.2028  3.3507 0.0008  0.2820  1.0769\n",
       "agency_HUD                   0.5233   0.1112  4.7072 0.0000  0.3054  0.7412\n",
       "agency_NCUA                 -0.7039   0.1285 -5.4795 0.0000 -0.9557 -0.4521\n",
       "agency_OCC                   0.1222   0.1799  0.6795 0.4968 -0.2303  0.4748\n",
       "co_applicant_unknown        -0.3245   0.2036 -1.5939 0.1109 -0.7236  0.0745\n",
       "co_applicant_yes             0.2332   0.0748  3.1181 0.0018  0.0866  0.3798\n",
       "pct_hispanic                 0.0018   0.0034  0.5293 0.5966 -0.0049  0.0085\n",
       "pct_black                   -0.0013   0.0015 -0.8419 0.3998 -0.0042  0.0017\n",
       "pct_amer_indian              0.3030   0.0968  3.1301 0.0017  0.1133  0.4927\n",
       "pct_asian                    0.0018   0.0043  0.4142 0.6787 -0.0067  0.0103\n",
       "pct_pac_islander             0.0662   0.1560  0.4245 0.6712 -0.2395  0.3720\n",
       "===========================================================================\n",
       "\n",
       "\"\"\""
      ]
     },
     "execution_count": 43,
     "metadata": {},
     "output_type": "execute_result"
    }
   ],
   "source": [
    "X = train_df.drop(columns = 'loan_denied')\n",
    "y = train_df.loan_denied\n",
    "\n",
    "mod = sm.Logit(y, X)\n",
    "res = mod.fit()\n",
    "res.summary2()"
   ]
  },
  {
   "cell_type": "code",
   "execution_count": 44,
   "metadata": {},
   "outputs": [
    {
     "data": {
      "text/html": [
       "<div>\n",
       "<style scoped>\n",
       "    .dataframe tbody tr th:only-of-type {\n",
       "        vertical-align: middle;\n",
       "    }\n",
       "\n",
       "    .dataframe tbody tr th {\n",
       "        vertical-align: top;\n",
       "    }\n",
       "\n",
       "    .dataframe thead th {\n",
       "        text-align: right;\n",
       "    }\n",
       "</style>\n",
       "<table border=\"1\" class=\"dataframe\">\n",
       "  <thead>\n",
       "    <tr style=\"text-align: right;\">\n",
       "      <th></th>\n",
       "      <th>Coef.</th>\n",
       "      <th>Std.Err.</th>\n",
       "      <th>z</th>\n",
       "      <th>P&gt;|z|</th>\n",
       "      <th>[0.025</th>\n",
       "      <th>0.975]</th>\n",
       "    </tr>\n",
       "  </thead>\n",
       "  <tbody>\n",
       "    <tr>\n",
       "      <th>tract_to_msa_income_percent</th>\n",
       "      <td>0.002683</td>\n",
       "      <td>0.000661</td>\n",
       "      <td>4.059977</td>\n",
       "      <td>4.907760e-05</td>\n",
       "      <td>0.001388</td>\n",
       "      <td>0.003978</td>\n",
       "    </tr>\n",
       "    <tr>\n",
       "      <th>income</th>\n",
       "      <td>-0.000301</td>\n",
       "      <td>0.000224</td>\n",
       "      <td>-1.346888</td>\n",
       "      <td>1.780163e-01</td>\n",
       "      <td>-0.000739</td>\n",
       "      <td>0.000137</td>\n",
       "    </tr>\n",
       "    <tr>\n",
       "      <th>loan_amount</th>\n",
       "      <td>0.001474</td>\n",
       "      <td>0.000267</td>\n",
       "      <td>5.523369</td>\n",
       "      <td>3.325603e-08</td>\n",
       "      <td>0.000951</td>\n",
       "      <td>0.001997</td>\n",
       "    </tr>\n",
       "    <tr>\n",
       "      <th>loan_income_ratio</th>\n",
       "      <td>1.598258</td>\n",
       "      <td>0.165952</td>\n",
       "      <td>9.630833</td>\n",
       "      <td>5.924722e-22</td>\n",
       "      <td>1.272998</td>\n",
       "      <td>1.923519</td>\n",
       "    </tr>\n",
       "    <tr>\n",
       "      <th>sex_male</th>\n",
       "      <td>0.033175</td>\n",
       "      <td>0.067370</td>\n",
       "      <td>0.492423</td>\n",
       "      <td>6.224203e-01</td>\n",
       "      <td>-0.098869</td>\n",
       "      <td>0.165218</td>\n",
       "    </tr>\n",
       "    <tr>\n",
       "      <th>sex_na</th>\n",
       "      <td>0.256948</td>\n",
       "      <td>0.173758</td>\n",
       "      <td>1.478771</td>\n",
       "      <td>1.392015e-01</td>\n",
       "      <td>-0.083611</td>\n",
       "      <td>0.597506</td>\n",
       "    </tr>\n",
       "    <tr>\n",
       "      <th>race_asian</th>\n",
       "      <td>-0.302795</td>\n",
       "      <td>0.101541</td>\n",
       "      <td>-2.982009</td>\n",
       "      <td>2.863634e-03</td>\n",
       "      <td>-0.501810</td>\n",
       "      <td>-0.103779</td>\n",
       "    </tr>\n",
       "    <tr>\n",
       "      <th>race_black</th>\n",
       "      <td>-0.835633</td>\n",
       "      <td>0.111644</td>\n",
       "      <td>-7.484811</td>\n",
       "      <td>7.164993e-14</td>\n",
       "      <td>-1.054451</td>\n",
       "      <td>-0.616815</td>\n",
       "    </tr>\n",
       "    <tr>\n",
       "      <th>race_hispanic</th>\n",
       "      <td>-0.430015</td>\n",
       "      <td>0.158392</td>\n",
       "      <td>-2.714879</td>\n",
       "      <td>6.630002e-03</td>\n",
       "      <td>-0.740458</td>\n",
       "      <td>-0.119573</td>\n",
       "    </tr>\n",
       "    <tr>\n",
       "      <th>race_na</th>\n",
       "      <td>-0.393888</td>\n",
       "      <td>0.117928</td>\n",
       "      <td>-3.340087</td>\n",
       "      <td>8.375207e-04</td>\n",
       "      <td>-0.625022</td>\n",
       "      <td>-0.162755</td>\n",
       "    </tr>\n",
       "    <tr>\n",
       "      <th>race_native american</th>\n",
       "      <td>-0.994766</td>\n",
       "      <td>0.559339</td>\n",
       "      <td>-1.778467</td>\n",
       "      <td>7.532721e-02</td>\n",
       "      <td>-2.091050</td>\n",
       "      <td>0.101518</td>\n",
       "    </tr>\n",
       "    <tr>\n",
       "      <th>race_native hawaiian</th>\n",
       "      <td>-0.913316</td>\n",
       "      <td>0.453919</td>\n",
       "      <td>-2.012069</td>\n",
       "      <td>4.421262e-02</td>\n",
       "      <td>-1.802980</td>\n",
       "      <td>-0.023652</td>\n",
       "    </tr>\n",
       "    <tr>\n",
       "      <th>agency_CFPB</th>\n",
       "      <td>-0.514890</td>\n",
       "      <td>0.107834</td>\n",
       "      <td>-4.774843</td>\n",
       "      <td>1.798475e-06</td>\n",
       "      <td>-0.726240</td>\n",
       "      <td>-0.303539</td>\n",
       "    </tr>\n",
       "    <tr>\n",
       "      <th>agency_FRS</th>\n",
       "      <td>0.679471</td>\n",
       "      <td>0.202786</td>\n",
       "      <td>3.350673</td>\n",
       "      <td>8.061551e-04</td>\n",
       "      <td>0.282017</td>\n",
       "      <td>1.076925</td>\n",
       "    </tr>\n",
       "    <tr>\n",
       "      <th>agency_HUD</th>\n",
       "      <td>0.523331</td>\n",
       "      <td>0.111178</td>\n",
       "      <td>4.707162</td>\n",
       "      <td>2.511899e-06</td>\n",
       "      <td>0.305427</td>\n",
       "      <td>0.741236</td>\n",
       "    </tr>\n",
       "    <tr>\n",
       "      <th>agency_NCUA</th>\n",
       "      <td>-0.703893</td>\n",
       "      <td>0.128459</td>\n",
       "      <td>-5.479513</td>\n",
       "      <td>4.264971e-08</td>\n",
       "      <td>-0.955669</td>\n",
       "      <td>-0.452118</td>\n",
       "    </tr>\n",
       "    <tr>\n",
       "      <th>agency_OCC</th>\n",
       "      <td>0.122231</td>\n",
       "      <td>0.179889</td>\n",
       "      <td>0.679482</td>\n",
       "      <td>4.968328e-01</td>\n",
       "      <td>-0.230345</td>\n",
       "      <td>0.474807</td>\n",
       "    </tr>\n",
       "    <tr>\n",
       "      <th>co_applicant_unknown</th>\n",
       "      <td>-0.324538</td>\n",
       "      <td>0.203606</td>\n",
       "      <td>-1.593949</td>\n",
       "      <td>1.109475e-01</td>\n",
       "      <td>-0.723598</td>\n",
       "      <td>0.074523</td>\n",
       "    </tr>\n",
       "    <tr>\n",
       "      <th>co_applicant_yes</th>\n",
       "      <td>0.233236</td>\n",
       "      <td>0.074801</td>\n",
       "      <td>3.118102</td>\n",
       "      <td>1.820198e-03</td>\n",
       "      <td>0.086630</td>\n",
       "      <td>0.379843</td>\n",
       "    </tr>\n",
       "    <tr>\n",
       "      <th>pct_hispanic</th>\n",
       "      <td>0.001816</td>\n",
       "      <td>0.003431</td>\n",
       "      <td>0.529292</td>\n",
       "      <td>5.966028e-01</td>\n",
       "      <td>-0.004908</td>\n",
       "      <td>0.008539</td>\n",
       "    </tr>\n",
       "    <tr>\n",
       "      <th>pct_black</th>\n",
       "      <td>-0.001253</td>\n",
       "      <td>0.001489</td>\n",
       "      <td>-0.841898</td>\n",
       "      <td>3.998453e-01</td>\n",
       "      <td>-0.004171</td>\n",
       "      <td>0.001664</td>\n",
       "    </tr>\n",
       "    <tr>\n",
       "      <th>pct_amer_indian</th>\n",
       "      <td>0.302967</td>\n",
       "      <td>0.096791</td>\n",
       "      <td>3.130123</td>\n",
       "      <td>1.747331e-03</td>\n",
       "      <td>0.113260</td>\n",
       "      <td>0.492673</td>\n",
       "    </tr>\n",
       "    <tr>\n",
       "      <th>pct_asian</th>\n",
       "      <td>0.001795</td>\n",
       "      <td>0.004333</td>\n",
       "      <td>0.414198</td>\n",
       "      <td>6.787293e-01</td>\n",
       "      <td>-0.006699</td>\n",
       "      <td>0.010288</td>\n",
       "    </tr>\n",
       "    <tr>\n",
       "      <th>pct_pac_islander</th>\n",
       "      <td>0.066229</td>\n",
       "      <td>0.156005</td>\n",
       "      <td>0.424535</td>\n",
       "      <td>6.711760e-01</td>\n",
       "      <td>-0.239534</td>\n",
       "      <td>0.371993</td>\n",
       "    </tr>\n",
       "  </tbody>\n",
       "</table>\n",
       "</div>"
      ],
      "text/plain": [
       "                                Coef.  Std.Err.         z         P>|z|  \\\n",
       "tract_to_msa_income_percent  0.002683  0.000661  4.059977  4.907760e-05   \n",
       "income                      -0.000301  0.000224 -1.346888  1.780163e-01   \n",
       "loan_amount                  0.001474  0.000267  5.523369  3.325603e-08   \n",
       "loan_income_ratio            1.598258  0.165952  9.630833  5.924722e-22   \n",
       "sex_male                     0.033175  0.067370  0.492423  6.224203e-01   \n",
       "sex_na                       0.256948  0.173758  1.478771  1.392015e-01   \n",
       "race_asian                  -0.302795  0.101541 -2.982009  2.863634e-03   \n",
       "race_black                  -0.835633  0.111644 -7.484811  7.164993e-14   \n",
       "race_hispanic               -0.430015  0.158392 -2.714879  6.630002e-03   \n",
       "race_na                     -0.393888  0.117928 -3.340087  8.375207e-04   \n",
       "race_native american        -0.994766  0.559339 -1.778467  7.532721e-02   \n",
       "race_native hawaiian        -0.913316  0.453919 -2.012069  4.421262e-02   \n",
       "agency_CFPB                 -0.514890  0.107834 -4.774843  1.798475e-06   \n",
       "agency_FRS                   0.679471  0.202786  3.350673  8.061551e-04   \n",
       "agency_HUD                   0.523331  0.111178  4.707162  2.511899e-06   \n",
       "agency_NCUA                 -0.703893  0.128459 -5.479513  4.264971e-08   \n",
       "agency_OCC                   0.122231  0.179889  0.679482  4.968328e-01   \n",
       "co_applicant_unknown        -0.324538  0.203606 -1.593949  1.109475e-01   \n",
       "co_applicant_yes             0.233236  0.074801  3.118102  1.820198e-03   \n",
       "pct_hispanic                 0.001816  0.003431  0.529292  5.966028e-01   \n",
       "pct_black                   -0.001253  0.001489 -0.841898  3.998453e-01   \n",
       "pct_amer_indian              0.302967  0.096791  3.130123  1.747331e-03   \n",
       "pct_asian                    0.001795  0.004333  0.414198  6.787293e-01   \n",
       "pct_pac_islander             0.066229  0.156005  0.424535  6.711760e-01   \n",
       "\n",
       "                               [0.025    0.975]  \n",
       "tract_to_msa_income_percent  0.001388  0.003978  \n",
       "income                      -0.000739  0.000137  \n",
       "loan_amount                  0.000951  0.001997  \n",
       "loan_income_ratio            1.272998  1.923519  \n",
       "sex_male                    -0.098869  0.165218  \n",
       "sex_na                      -0.083611  0.597506  \n",
       "race_asian                  -0.501810 -0.103779  \n",
       "race_black                  -1.054451 -0.616815  \n",
       "race_hispanic               -0.740458 -0.119573  \n",
       "race_na                     -0.625022 -0.162755  \n",
       "race_native american        -2.091050  0.101518  \n",
       "race_native hawaiian        -1.802980 -0.023652  \n",
       "agency_CFPB                 -0.726240 -0.303539  \n",
       "agency_FRS                   0.282017  1.076925  \n",
       "agency_HUD                   0.305427  0.741236  \n",
       "agency_NCUA                 -0.955669 -0.452118  \n",
       "agency_OCC                  -0.230345  0.474807  \n",
       "co_applicant_unknown        -0.723598  0.074523  \n",
       "co_applicant_yes             0.086630  0.379843  \n",
       "pct_hispanic                -0.004908  0.008539  \n",
       "pct_black                   -0.004171  0.001664  \n",
       "pct_amer_indian              0.113260  0.492673  \n",
       "pct_asian                   -0.006699  0.010288  \n",
       "pct_pac_islander            -0.239534  0.371993  "
      ]
     },
     "execution_count": 44,
     "metadata": {},
     "output_type": "execute_result"
    }
   ],
   "source": [
    "res.summary2().tables[1]"
   ]
  },
  {
   "cell_type": "markdown",
   "metadata": {},
   "source": [
    "## Try again with sci-kit learn\n",
    "\n",
    "But I'll be honest, I like sklearn a *lot lot lot* better. Using the coefficient to build a dataframe just seems so *nice*.\n",
    "\n",
    "> **Tip:** When you build your model, use `LogisticRegression(C=1e9, solver='lbfgs', max_iter=4000)` - for if you don't increase `max_iter` (how long/hard it works) it'll complain it can't find an answer."
   ]
  },
  {
   "cell_type": "code",
   "execution_count": 45,
   "metadata": {},
   "outputs": [
    {
     "data": {
      "text/plain": [
       "LogisticRegression(C=1000000000.0, class_weight=None, dual=False,\n",
       "          fit_intercept=True, intercept_scaling=1, max_iter=4000,\n",
       "          multi_class='warn', n_jobs=None, penalty='l2', random_state=None,\n",
       "          solver='lbfgs', tol=0.0001, verbose=0, warm_start=False)"
      ]
     },
     "execution_count": 45,
     "metadata": {},
     "output_type": "execute_result"
    }
   ],
   "source": [
    "lm = LogisticRegression(C=1e9, solver='lbfgs', max_iter=4000)\n",
    "lm.fit(X, y)"
   ]
  },
  {
   "cell_type": "markdown",
   "metadata": {},
   "source": [
    "### Getting your coefficients and odds ratios\n",
    "\n",
    "After you run your regression **using sklearn**, you can use code like the below to print out an ordered list of features, coefficients, and odds ratios.\n",
    "\n",
    "```python\n",
    "feature_names = X.columns\n",
    "coefficients = clf.coef_[0]\n",
    "\n",
    "pd.DataFrame({\n",
    "    'feature': feature_names,\n",
    "    'coefficient (log odds ratio)': coefficients,\n",
    "    'odds ratio': np.exp(coefficients)\n",
    "}).sort_values(by='odds ratio', ascending=False)\n",
    "```"
   ]
  },
  {
   "cell_type": "code",
   "execution_count": 46,
   "metadata": {
    "scrolled": true
   },
   "outputs": [],
   "source": [
    "feature_names = X.columns\n",
    "coefficients = lm.coef_[0]"
   ]
  },
  {
   "cell_type": "code",
   "execution_count": null,
   "metadata": {},
   "outputs": [],
   "source": []
  },
  {
   "cell_type": "code",
   "execution_count": 47,
   "metadata": {},
   "outputs": [
    {
     "data": {
      "text/html": [
       "<div>\n",
       "<style scoped>\n",
       "    .dataframe tbody tr th:only-of-type {\n",
       "        vertical-align: middle;\n",
       "    }\n",
       "\n",
       "    .dataframe tbody tr th {\n",
       "        vertical-align: top;\n",
       "    }\n",
       "\n",
       "    .dataframe thead th {\n",
       "        text-align: right;\n",
       "    }\n",
       "</style>\n",
       "<table border=\"1\" class=\"dataframe\">\n",
       "  <thead>\n",
       "    <tr style=\"text-align: right;\">\n",
       "      <th></th>\n",
       "      <th>feature</th>\n",
       "      <th>coefficient (log odds ratio)</th>\n",
       "      <th>odds ratio</th>\n",
       "    </tr>\n",
       "  </thead>\n",
       "  <tbody>\n",
       "    <tr>\n",
       "      <th>0</th>\n",
       "      <td>tract_to_msa_income_percent</td>\n",
       "      <td>-0.000715</td>\n",
       "      <td>0.999286</td>\n",
       "    </tr>\n",
       "    <tr>\n",
       "      <th>1</th>\n",
       "      <td>income</td>\n",
       "      <td>0.000815</td>\n",
       "      <td>1.000816</td>\n",
       "    </tr>\n",
       "    <tr>\n",
       "      <th>2</th>\n",
       "      <td>loan_amount</td>\n",
       "      <td>0.000679</td>\n",
       "      <td>1.000679</td>\n",
       "    </tr>\n",
       "    <tr>\n",
       "      <th>3</th>\n",
       "      <td>loan_income_ratio</td>\n",
       "      <td>-0.028608</td>\n",
       "      <td>0.971798</td>\n",
       "    </tr>\n",
       "    <tr>\n",
       "      <th>4</th>\n",
       "      <td>sex_male</td>\n",
       "      <td>-0.102939</td>\n",
       "      <td>0.902182</td>\n",
       "    </tr>\n",
       "    <tr>\n",
       "      <th>5</th>\n",
       "      <td>sex_na</td>\n",
       "      <td>0.078638</td>\n",
       "      <td>1.081813</td>\n",
       "    </tr>\n",
       "    <tr>\n",
       "      <th>6</th>\n",
       "      <td>race_asian</td>\n",
       "      <td>-0.464822</td>\n",
       "      <td>0.628247</td>\n",
       "    </tr>\n",
       "    <tr>\n",
       "      <th>7</th>\n",
       "      <td>race_black</td>\n",
       "      <td>-0.813764</td>\n",
       "      <td>0.443187</td>\n",
       "    </tr>\n",
       "    <tr>\n",
       "      <th>8</th>\n",
       "      <td>race_hispanic</td>\n",
       "      <td>-0.419573</td>\n",
       "      <td>0.657328</td>\n",
       "    </tr>\n",
       "    <tr>\n",
       "      <th>9</th>\n",
       "      <td>race_na</td>\n",
       "      <td>-0.409274</td>\n",
       "      <td>0.664132</td>\n",
       "    </tr>\n",
       "    <tr>\n",
       "      <th>10</th>\n",
       "      <td>race_native american</td>\n",
       "      <td>-0.748963</td>\n",
       "      <td>0.472857</td>\n",
       "    </tr>\n",
       "    <tr>\n",
       "      <th>11</th>\n",
       "      <td>race_native hawaiian</td>\n",
       "      <td>-0.946064</td>\n",
       "      <td>0.388266</td>\n",
       "    </tr>\n",
       "    <tr>\n",
       "      <th>12</th>\n",
       "      <td>agency_CFPB</td>\n",
       "      <td>-1.121310</td>\n",
       "      <td>0.325853</td>\n",
       "    </tr>\n",
       "    <tr>\n",
       "      <th>13</th>\n",
       "      <td>agency_FRS</td>\n",
       "      <td>-0.040100</td>\n",
       "      <td>0.960693</td>\n",
       "    </tr>\n",
       "    <tr>\n",
       "      <th>14</th>\n",
       "      <td>agency_HUD</td>\n",
       "      <td>-0.136487</td>\n",
       "      <td>0.872417</td>\n",
       "    </tr>\n",
       "    <tr>\n",
       "      <th>15</th>\n",
       "      <td>agency_NCUA</td>\n",
       "      <td>-1.353442</td>\n",
       "      <td>0.258350</td>\n",
       "    </tr>\n",
       "    <tr>\n",
       "      <th>16</th>\n",
       "      <td>agency_OCC</td>\n",
       "      <td>-0.433207</td>\n",
       "      <td>0.648426</td>\n",
       "    </tr>\n",
       "    <tr>\n",
       "      <th>17</th>\n",
       "      <td>co_applicant_unknown</td>\n",
       "      <td>-0.238939</td>\n",
       "      <td>0.787463</td>\n",
       "    </tr>\n",
       "    <tr>\n",
       "      <th>18</th>\n",
       "      <td>co_applicant_yes</td>\n",
       "      <td>0.236203</td>\n",
       "      <td>1.266431</td>\n",
       "    </tr>\n",
       "    <tr>\n",
       "      <th>19</th>\n",
       "      <td>pct_hispanic</td>\n",
       "      <td>-0.009854</td>\n",
       "      <td>0.990194</td>\n",
       "    </tr>\n",
       "    <tr>\n",
       "      <th>20</th>\n",
       "      <td>pct_black</td>\n",
       "      <td>-0.007792</td>\n",
       "      <td>0.992239</td>\n",
       "    </tr>\n",
       "    <tr>\n",
       "      <th>21</th>\n",
       "      <td>pct_amer_indian</td>\n",
       "      <td>0.325759</td>\n",
       "      <td>1.385081</td>\n",
       "    </tr>\n",
       "    <tr>\n",
       "      <th>22</th>\n",
       "      <td>pct_asian</td>\n",
       "      <td>-0.011221</td>\n",
       "      <td>0.988842</td>\n",
       "    </tr>\n",
       "    <tr>\n",
       "      <th>23</th>\n",
       "      <td>pct_pac_islander</td>\n",
       "      <td>-0.008542</td>\n",
       "      <td>0.991495</td>\n",
       "    </tr>\n",
       "  </tbody>\n",
       "</table>\n",
       "</div>"
      ],
      "text/plain": [
       "                        feature  coefficient (log odds ratio)  odds ratio\n",
       "0   tract_to_msa_income_percent                     -0.000715    0.999286\n",
       "1                        income                      0.000815    1.000816\n",
       "2                   loan_amount                      0.000679    1.000679\n",
       "3             loan_income_ratio                     -0.028608    0.971798\n",
       "4                      sex_male                     -0.102939    0.902182\n",
       "5                        sex_na                      0.078638    1.081813\n",
       "6                    race_asian                     -0.464822    0.628247\n",
       "7                    race_black                     -0.813764    0.443187\n",
       "8                 race_hispanic                     -0.419573    0.657328\n",
       "9                       race_na                     -0.409274    0.664132\n",
       "10         race_native american                     -0.748963    0.472857\n",
       "11         race_native hawaiian                     -0.946064    0.388266\n",
       "12                  agency_CFPB                     -1.121310    0.325853\n",
       "13                   agency_FRS                     -0.040100    0.960693\n",
       "14                   agency_HUD                     -0.136487    0.872417\n",
       "15                  agency_NCUA                     -1.353442    0.258350\n",
       "16                   agency_OCC                     -0.433207    0.648426\n",
       "17         co_applicant_unknown                     -0.238939    0.787463\n",
       "18             co_applicant_yes                      0.236203    1.266431\n",
       "19                 pct_hispanic                     -0.009854    0.990194\n",
       "20                    pct_black                     -0.007792    0.992239\n",
       "21              pct_amer_indian                      0.325759    1.385081\n",
       "22                    pct_asian                     -0.011221    0.988842\n",
       "23             pct_pac_islander                     -0.008542    0.991495"
      ]
     },
     "execution_count": 47,
     "metadata": {},
     "output_type": "execute_result"
    }
   ],
   "source": [
    "pd.DataFrame({\n",
    "    'feature': feature_names,\n",
    "    'coefficient (log odds ratio)': coefficients,\n",
    "    'odds ratio': np.exp(coefficients)\n",
    "})"
   ]
  },
  {
   "cell_type": "markdown",
   "metadata": {},
   "source": [
    "### Wait, what's the odds ratio again?\n",
    "\n",
    "It's how much that variable affects the outcome **if all other variables stay the same.**"
   ]
  },
  {
   "cell_type": "markdown",
   "metadata": {},
   "source": [
    "# Interpreting and thinking about the analysis\n",
    "\n",
    "### Question 1\n",
    "\n",
    "Our results aren't exactly the same as Reveal's, as I pulled a slightly different number of rows from the database and I'm not sure what exact dataset they used for census information. How are we feeling about this reproduction? **You might want check their 2015 results in the whitepaper.**"
   ]
  },
  {
   "cell_type": "code",
   "execution_count": null,
   "metadata": {},
   "outputs": [],
   "source": []
  },
  {
   "cell_type": "markdown",
   "metadata": {},
   "source": [
    "### Question 2\n",
    "\n",
    "In the opening paragraph to the flagship piece, [Aaron and Emmanuel write](https://www.revealnews.org/article/for-people-of-color-banks-are-shutting-the-door-to-homeownership/):\n",
    "\n",
    "> Fifty years after the federal Fair Housing Act banned racial discrimination in lending, African Americans and Latinos continue to be routinely denied conventional mortgage loans at rates far higher than their white counterparts.\n",
    "\n",
    "If you look at the results, Hawaiians/Pacific Islanders (and maybe Native Americans) have an even higher odds ratio. **Why do they choose to talk about African Americans and Latinos instead?**"
   ]
  },
  {
   "cell_type": "code",
   "execution_count": null,
   "metadata": {},
   "outputs": [],
   "source": []
  },
  {
   "cell_type": "markdown",
   "metadata": {},
   "source": [
    "### Question 3\n",
    "\n",
    "Write a sentence expressing the meaning of the **odds ratio** statistic for Black mortgage applicants. Find a line in [the Reveal piece](https://www.revealnews.org/article/for-people-of-color-banks-are-shutting-the-door-to-homeownership/) where they use the odds ratio."
   ]
  },
  {
   "cell_type": "code",
   "execution_count": null,
   "metadata": {},
   "outputs": [],
   "source": []
  },
  {
   "cell_type": "markdown",
   "metadata": {},
   "source": [
    "### Question 4\n",
    "\n",
    "Write a similar sentence about men."
   ]
  },
  {
   "cell_type": "code",
   "execution_count": null,
   "metadata": {},
   "outputs": [],
   "source": []
  },
  {
   "cell_type": "markdown",
   "metadata": {},
   "source": [
    "### Question 5\n",
    "\n",
    "Why did Aaron and Emmanuel choose to include the loan-to-income ratio statistic? **You might want to read the whitepaper.**"
   ]
  },
  {
   "cell_type": "code",
   "execution_count": null,
   "metadata": {},
   "outputs": [],
   "source": []
  },
  {
   "cell_type": "markdown",
   "metadata": {},
   "source": [
    "### Question 6\n",
    "\n",
    "Credit score is a common reason why loans are denied. Why are credit scores not included in our analysis? **You might want to read the whitepaper.**"
   ]
  },
  {
   "cell_type": "code",
   "execution_count": null,
   "metadata": {},
   "outputs": [],
   "source": []
  },
  {
   "cell_type": "markdown",
   "metadata": {},
   "source": [
    "### Question 7\n",
    "\n",
    "This data was just sitting out there for anyone to look at, they didn't even need to FOIA it. Why do you think this issue had not come up before Reveal's analysis?"
   ]
  },
  {
   "cell_type": "code",
   "execution_count": null,
   "metadata": {},
   "outputs": [],
   "source": []
  },
  {
   "cell_type": "markdown",
   "metadata": {},
   "source": [
    "### Question 8\n",
    "\n",
    "As a result of this series, [a lot has happened](https://www.revealnews.org/blog/we-exposed-modern-day-redlining-in-61-cities-find-out-whats-happened-since/), although [recent changes don't look so good](https://www.revealnews.org/blog/cfpb-moves-to-limit-home-loan-data/). If you were reporting this story, what groups of people would you want to talk to in order to make sure you're getting the story right?"
   ]
  },
  {
   "cell_type": "code",
   "execution_count": null,
   "metadata": {},
   "outputs": [],
   "source": []
  },
  {
   "cell_type": "markdown",
   "metadata": {},
   "source": [
    "### Question 9\n",
    "\n",
    "When they were consulting experts, Aaron and Emmanuel received a lot of conflicting accounts about whether they should include the \"N/A\" values for race (they ended up including it). If the experts disagreed about something like that, why do you think they went forward with their analysis?"
   ]
  },
  {
   "cell_type": "code",
   "execution_count": null,
   "metadata": {},
   "outputs": [],
   "source": []
  },
  {
   "cell_type": "markdown",
   "metadata": {},
   "source": [
    "### Question 10\n",
    "\n",
    "What if we were working on this story, and our logistic regression or input dataset were flawed? What would be the repercussions?"
   ]
  },
  {
   "cell_type": "code",
   "execution_count": null,
   "metadata": {},
   "outputs": [],
   "source": []
  }
 ],
 "metadata": {
  "kernelspec": {
   "display_name": "Python 3",
   "language": "python",
   "name": "python3"
  },
  "language_info": {
   "codemirror_mode": {
    "name": "ipython",
    "version": 3
   },
   "file_extension": ".py",
   "mimetype": "text/x-python",
   "name": "python",
   "nbconvert_exporter": "python",
   "pygments_lexer": "ipython3",
   "version": "3.7.3"
  }
 },
 "nbformat": 4,
 "nbformat_minor": 2
}
